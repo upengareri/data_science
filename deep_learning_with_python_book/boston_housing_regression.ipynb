{
 "cells": [
  {
   "cell_type": "code",
   "execution_count": 1,
   "metadata": {},
   "outputs": [
    {
     "name": "stderr",
     "output_type": "stream",
     "text": [
      "Using TensorFlow backend.\n"
     ]
    }
   ],
   "source": [
    "# Preliminaries\n",
    "%matplotlib inline\n",
    "from keras.datasets import boston_housing\n",
    "from keras import models\n",
    "from keras import layers\n",
    "import numpy as np\n",
    "import matplotlib.pyplot as plt"
   ]
  },
  {
   "cell_type": "code",
   "execution_count": 5,
   "metadata": {},
   "outputs": [],
   "source": [
    "# 1. Load data\n",
    "(train_data, train_targets), (test_data, test_targets) =  boston_housing.load_data()"
   ]
  },
  {
   "cell_type": "code",
   "execution_count": 13,
   "metadata": {},
   "outputs": [
    {
     "data": {
      "text/plain": [
       "((404, 13), (102, 13))"
      ]
     },
     "execution_count": 13,
     "metadata": {},
     "output_type": "execute_result"
    }
   ],
   "source": [
    "# Check data\n",
    "train_data.shape, test_data.shape"
   ]
  },
  {
   "cell_type": "code",
   "execution_count": 11,
   "metadata": {},
   "outputs": [
    {
     "data": {
      "text/plain": [
       "array([  9.59571,   0.     ,  18.1    ,   0.     ,   0.693  ,   6.404  ,\n",
       "       100.     ,   1.639  ,  24.     , 666.     ,  20.2    , 376.11   ,\n",
       "        20.31   ])"
      ]
     },
     "execution_count": 11,
     "metadata": {},
     "output_type": "execute_result"
    }
   ],
   "source": [
    "train_data[10]"
   ]
  },
  {
   "cell_type": "code",
   "execution_count": 63,
   "metadata": {},
   "outputs": [
    {
     "name": "stdout",
     "output_type": "stream",
     "text": [
      "mean:  [ 7.83201886e-18  7.36484581e-17  1.48396147e-17  1.18991725e-16\n",
      "  5.60607666e-17 -3.11906716e-17  1.09923072e-17  6.48546123e-17\n",
      "  1.95113452e-17 -7.69461502e-17 -2.85799987e-17  3.89539885e-17\n",
      " -1.20915379e-17]\n"
     ]
    }
   ],
   "source": [
    "# Normalize the data\n",
    "mean = train_data.mean(axis=0)\n",
    "print('mean: ',mean)\n",
    "train_data -= mean\n",
    "std = train_data.std(axis=0)\n",
    "train_data /= std\n",
    "\n",
    "test_data -= mean\n",
    "test_data /= std"
   ]
  },
  {
   "cell_type": "code",
   "execution_count": 15,
   "metadata": {},
   "outputs": [
    {
     "data": {
      "text/plain": [
       "array([ 0.63391647, -0.48361547,  1.0283258 , -0.25683275,  1.15788777,\n",
       "        0.19313958,  1.11048828, -1.03628262,  1.67588577,  1.5652875 ,\n",
       "        0.78447637,  0.22689422,  1.04466491])"
      ]
     },
     "execution_count": 15,
     "metadata": {},
     "output_type": "execute_result"
    }
   ],
   "source": [
    "train_data[10]"
   ]
  },
  {
   "cell_type": "code",
   "execution_count": 16,
   "metadata": {},
   "outputs": [],
   "source": [
    "# Build the model/network\n",
    "def build_model():\n",
    "    # Because we need to instantiate\n",
    "    # the same model multiple times\n",
    "    # we use function to construct it\n",
    "    model = models.Sequential()\n",
    "    model.add(layers.Dense(64, activation='relu', input_shape=(train_data.shape[1], )))\n",
    "    model.add(layers.Dense(64, activation='relu'))\n",
    "    model.add(layers.Dense(1))\n",
    "    model.compile(optimizer='rmsprop',\n",
    "                  loss='mse',\n",
    "                  metrics=['mae'])\n",
    "    return model"
   ]
  },
  {
   "cell_type": "code",
   "execution_count": 40,
   "metadata": {},
   "outputs": [
    {
     "name": "stdout",
     "output_type": "stream",
     "text": [
      "processing fold #: 0\n",
      "history keys: dict_keys(['val_loss', 'val_mean_absolute_error', 'loss', 'mean_absolute_error'])\n",
      "processing fold #: 1\n",
      "history keys: dict_keys(['val_loss', 'val_mean_absolute_error', 'loss', 'mean_absolute_error'])\n",
      "processing fold #: 2\n",
      "history keys: dict_keys(['val_loss', 'val_mean_absolute_error', 'loss', 'mean_absolute_error'])\n",
      "processing fold #: 3\n",
      "history keys: dict_keys(['val_loss', 'val_mean_absolute_error', 'loss', 'mean_absolute_error'])\n"
     ]
    }
   ],
   "source": [
    "\"\"\"\n",
    "# k-fold cross validation\n",
    "k = 4\n",
    "num_val_samples = len(train_data) // k\n",
    "num_epochs = 100\n",
    "all_mae = []\n",
    "for i in range(k):\n",
    "    print(f'processing fold #{i}')\n",
    "    # prepare the validation data: data from partition # k\n",
    "    val_data = train_data[num_val_samples * i: num_val_samples * (i+1)]\n",
    "    val_targets = train_targets[num_val_samples * i: num_val_samples * (i+1)]\n",
    "    \n",
    "    # prepare the training data: data from all other partitions\n",
    "    partial_train_data = np.concatenate(\n",
    "        (train_data[:num_val_samples * i],\n",
    "        train_data[num_val_samples * (i+1):]),\n",
    "        axis=0)\n",
    "    # print(partial_train_data.shape)\n",
    "    # print(val_data.shape)\n",
    "    partial_train_targets = np.concatenate(\n",
    "        (train_targets[:num_val_samples * i],\n",
    "        train_targets[num_val_samples * (i+1):]),\n",
    "        axis=0)\n",
    "    \n",
    "    # build the keras model; already compiled\n",
    "    model = build_model()\n",
    "    # train the model in silent mode (verbose=0)\n",
    "    model.fit(partial_train_data, \n",
    "              partial_train_targets,\n",
    "              epochs=num_epochs,\n",
    "              batch_size=1,\n",
    "              verbose=0)\n",
    "    # evaluate the model on validation data\n",
    "    mse, mae = model.evaluate(val_data, val_targets, verbose=0)\n",
    "    all_mae.append(mae)\n",
    "\n",
    "\"\"\"\n",
    "# k-fold cross validation; saving validation logs at each fold\n",
    "k = 4\n",
    "num_val_samples = len(train_data) // k\n",
    "num_epochs = 500\n",
    "all_mae_histories = []\n",
    "for i in range(k):\n",
    "    print(f\"processing fold #: {i}\")\n",
    "    # preparing validation data: data from partition # k\n",
    "    val_data = train_data[i*num_val_samples: (i+1)*num_val_samples]\n",
    "    val_targets = train_targets[i*num_val_samples: (i+1)*num_val_samples]\n",
    "    \n",
    "    # preparing training data: data from all other partitions\n",
    "    partial_train_data = np.concatenate(\n",
    "        (train_data[: i*num_val_samples], \n",
    "        train_data[(i+1)*num_val_samples:]),\n",
    "        axis=0)\n",
    "    partial_train_targets = np.concatenate(\n",
    "        (train_targets[: i*num_val_samples], train_targets[(i+1)*num_val_samples:]),\n",
    "        axis=0)\n",
    "    \n",
    "    # build the keras model (already compiled)\n",
    "    model = build_model()\n",
    "    # train the model (in silent mode, verbose=0)\n",
    "    history = model.fit(partial_train_data,\n",
    "                        partial_train_targets,\n",
    "                        epochs=num_epochs, \n",
    "                        batch_size=1,\n",
    "                        validation_data=(val_data, val_targets),\n",
    "                        verbose=0)\n",
    "    #print(f\"history keys: {history.history.keys()}\")\n",
    "    mae_history = history.history['val_mean_absolute_error']\n",
    "    all_mae_histories.append(mae_history)\n",
    "    \n"
   ]
  },
  {
   "cell_type": "code",
   "execution_count": 43,
   "metadata": {
    "scrolled": true
   },
   "outputs": [
    {
     "data": {
      "text/plain": [
       "(4, 500)"
      ]
     },
     "execution_count": 43,
     "metadata": {},
     "output_type": "execute_result"
    }
   ],
   "source": [
    "len(all_mae_histories), len(all_mae_histories[0])"
   ]
  },
  {
   "cell_type": "code",
   "execution_count": 45,
   "metadata": {},
   "outputs": [
    {
     "data": {
      "text/plain": [
       "500"
      ]
     },
     "execution_count": 45,
     "metadata": {},
     "output_type": "execute_result"
    }
   ],
   "source": [
    "avg_mae_history = [np.mean([x[i] for x in all_mae_histories]) for i in range(num_epochs)]\n",
    "len(avg_mae_history)"
   ]
  },
  {
   "cell_type": "code",
   "execution_count": 47,
   "metadata": {},
   "outputs": [
    {
     "data": {
      "image/png": "[encoded data removed]",
      "text/plain": [
       "<Figure size 432x288 with 1 Axes>"
      ]
     },
     "metadata": {},
     "output_type": "display_data"
    }
   ],
   "source": [
    "# Plotting validation scores\n",
    "plt.plot(range(1, len(avg_mae_history)+1), avg_mae_history)\n",
    "plt.xlabel('Epochs')\n",
    "plt.ylabel('Validation MAE')\n",
    "plt.title('Average Validation Scores over 4 folds')\n",
    "\n",
    "plt.show()"
   ]
  },
  {
   "cell_type": "code",
   "execution_count": 50,
   "metadata": {},
   "outputs": [
    {
     "data": {
      "image/png": "[encoded data removed]",
      "text/plain": [
       "<Figure size 432x288 with 1 Axes>"
      ]
     },
     "metadata": {},
     "output_type": "display_data"
    }
   ],
   "source": [
    "# The above graph is hard to visualize \n",
    "# because of scaling issue and high variance\n",
    "# so let's remove the first 10 data points \n",
    "# which are on different scale\n",
    "\n",
    "# 'Raw data points' vs 'Exponential moving average for smooth curve'\n",
    "def smooth_curve(points, factor=0.9):\n",
    "    smoothed_points = []\n",
    "    for point in points:\n",
    "        if smoothed_points:\n",
    "            previous = smoothed_points[-1]\n",
    "            smoothed_points.append(previous * factor + point * (1 - factor))\n",
    "        else:\n",
    "            smoothed_points.append(point)\n",
    "    return smoothed_points\n",
    "\n",
    "# excluding first 10 data points\n",
    "smooth_mae_history = smooth_curve(avg_mae_history[10:])\n",
    "\n",
    "plt.plot(range(1, len(smooth_mae_history) + 1), smooth_mae_history, 'b', label='smooth_mae')\n",
    "#plt.plot(range(1, len(smooth_mae_history) + 1), avg_mae_history[10:], 'r', label='avg_mae')\n",
    "plt.xlabel('Epochs')\n",
    "plt.ylabel('Validation MAE')\n",
    "plt.title('Average vs Smooth MAE excluding 10 data points')\n",
    "plt.legend()\n",
    "\n",
    "plt.show()\n"
   ]
  },
  {
   "cell_type": "code",
   "execution_count": 61,
   "metadata": {},
   "outputs": [
    {
     "name": "stdout",
     "output_type": "stream",
     "text": [
      "Train mae 2.732780727419523\n",
      "102/102 [==============================] - 0s 2ms/step\n"
     ]
    },
    {
     "data": {
      "text/plain": [
       "2.781857817780738"
      ]
     },
     "execution_count": 61,
     "metadata": {},
     "output_type": "execute_result"
    }
   ],
   "source": [
    "# After 80 epochs the model starts overfitting\n",
    "# Training the final model with full train_data\n",
    "\n",
    "model = build_model()\n",
    "history = model.fit(train_data,\n",
    "          train_targets,\n",
    "          epochs=80,\n",
    "          batch_size=16,\n",
    "          verbose=0)\n",
    "\n",
    "print('Train mae',np.mean(history.history['mean_absolute_error']))\n",
    "# evaluating the model on test data\n",
    "test_mse_score, test_mae_score = model.evaluate(test_data, test_targets)\n",
    "# our final result\n",
    "test_mae_score"
   ]
  },
  {
   "cell_type": "code",
   "execution_count": null,
   "metadata": {},
   "outputs": [],
   "source": [
    "# We are still off by appx. $2,600"
   ]
  }
 ],
 "metadata": {
  "kernelspec": {
   "display_name": "Python 3",
   "language": "python",
   "name": "python3"
  },
  "language_info": {
   "codemirror_mode": {
    "name": "ipython",
    "version": 3
   },
   "file_extension": ".py",
   "mimetype": "text/x-python",
   "name": "python",
   "nbconvert_exporter": "python",
   "pygments_lexer": "ipython3",
   "version": "3.6.5"
  }
 },
 "nbformat": 4,
 "nbformat_minor": 2
}

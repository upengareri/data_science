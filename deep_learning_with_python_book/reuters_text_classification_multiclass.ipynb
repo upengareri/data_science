{
 "cells": [
  {
   "cell_type": "code",
   "execution_count": 2,
   "metadata": {},
   "outputs": [],
   "source": [
    "# Preliminaries\n",
    "%matplotlib inline\n",
    "from keras.datasets import reuters\n",
    "from keras import models\n",
    "from keras import layers\n",
    "import numpy as np\n",
    "import matplotlib.pyplot as plt"
   ]
  },
  {
   "cell_type": "code",
   "execution_count": 3,
   "metadata": {},
   "outputs": [
    {
     "name": "stdout",
     "output_type": "stream",
     "text": [
      "Downloading data from https://s3.amazonaws.com/text-datasets/reuters.npz\n",
      "2113536/2110848 [==============================] - 3s 1us/step\n"
     ]
    }
   ],
   "source": [
    "# 1.1 Load data\n",
    "(train_data, train_labels), (test_data, test_labels) = reuters.load_data(num_words=10000)"
   ]
  },
  {
   "cell_type": "code",
   "execution_count": 12,
   "metadata": {},
   "outputs": [
    {
     "data": {
      "text/plain": [
       "(8982, 2246)"
      ]
     },
     "execution_count": 12,
     "metadata": {},
     "output_type": "execute_result"
    }
   ],
   "source": [
    "# Check data\n",
    "len(train_data), len(test_data)"
   ]
  },
  {
   "cell_type": "code",
   "execution_count": 21,
   "metadata": {},
   "outputs": [
    {
     "data": {
      "text/plain": [
       "(0, 45)"
      ]
     },
     "execution_count": 21,
     "metadata": {},
     "output_type": "execute_result"
    }
   ],
   "source": [
    "train_data[0]\n",
    "min(train_labels), max(train_labels)  # tells us the number of classes"
   ]
  },
  {
   "cell_type": "code",
   "execution_count": 19,
   "metadata": {},
   "outputs": [
    {
     "data": {
      "text/plain": [
       "'? ? ? said as a result of its december acquisition of space co it expects earnings per share in 1987 of 1 15 to 1 30 dlrs per share up from 70 cts in 1986 the company said pretax net should rise to nine to 10 mln dlrs from six mln dlrs in 1986 and rental operation revenues to 19 to 22 mln dlrs from 12 5 mln dlrs it said cash flow per share this year should be 2 50 to three dlrs reuter 3'"
      ]
     },
     "execution_count": 19,
     "metadata": {},
     "output_type": "execute_result"
    }
   ],
   "source": [
    "# decode sequence\n",
    "word_index = reuters.get_word_index()\n",
    "reversed_word_index = {v:k for k,v in word_index.items()}\n",
    "decoded_wires = \" \".join([reversed_word_index.get(idx-3,'?') for idx in train_data[0]])\n",
    "decoded_wires"
   ]
  },
  {
   "cell_type": "code",
   "execution_count": 24,
   "metadata": {},
   "outputs": [
    {
     "data": {
      "text/plain": [
       "array([0., 1., 1., ..., 0., 0., 0.])"
      ]
     },
     "execution_count": 24,
     "metadata": {},
     "output_type": "execute_result"
    }
   ],
   "source": [
    "# 1.2 Encoding the data into one-hot vector\n",
    "def vectorized_sequences(sequences, dimension=10000):\n",
    "    # create a matrix of shape (len(sequences), dimension)\n",
    "    results = np.zeros((len(sequences), dimension))\n",
    "    for i, sequence in enumerate(sequences):\n",
    "        results[i, sequence] = 1  # set specific indices of sequence to 1s\n",
    "    return results\n",
    "\n",
    "# Vectorized train_data\n",
    "x_train = vectorized_sequences(train_data)\n",
    "# Vectorized test data\n",
    "x_test = vectorized_sequences(test_data)\n",
    "\n",
    "x_train[0]"
   ]
  },
  {
   "cell_type": "code",
   "execution_count": 29,
   "metadata": {},
   "outputs": [
    {
     "data": {
      "text/plain": [
       "array([0., 0., 0., 1., 0., 0., 0., 0., 0., 0., 0., 0., 0., 0., 0., 0., 0.,\n",
       "       0., 0., 0., 0., 0., 0., 0., 0., 0., 0., 0., 0., 0., 0., 0., 0., 0.,\n",
       "       0., 0., 0., 0., 0., 0., 0., 0., 0., 0., 0., 0.])"
      ]
     },
     "execution_count": 29,
     "metadata": {},
     "output_type": "execute_result"
    }
   ],
   "source": [
    "# 1.3 Encoding the labels into one-hot vector\n",
    "def to_one_hot(labels, dimension=46):\n",
    "    results = np.zeros((len(labels), dimension))\n",
    "    for i, label in enumerate(labels):\n",
    "        results[i, label] = 1\n",
    "    return results\n",
    "\n",
    "# Vectorized train_labels\n",
    "y_train_one_hot = to_one_hot(train_labels)\n",
    "# Vectorized test labels\n",
    "y_test_one_hot = to_one_hot(test_labels)\n",
    "\n",
    "y_train_one_hot[0]"
   ]
  },
  {
   "cell_type": "code",
   "execution_count": 30,
   "metadata": {},
   "outputs": [],
   "source": [
    "# 1.4 Split into train-val\n",
    "x_val = x_train[:1000]\n",
    "y_val = y_train_one_hot[:1000]\n",
    "\n",
    "partial_x_train = x_train[1000:]\n",
    "partial_y_train = y_train_one_hot[1000:]"
   ]
  },
  {
   "cell_type": "code",
   "execution_count": 42,
   "metadata": {},
   "outputs": [],
   "source": [
    "# 2. Create a model/network\n",
    "model = models.Sequential()\n",
    "model.add(layers.Dense(64, activation='relu', input_shape=(10000,)))\n",
    "model.add(layers.Dense(64, activation='relu'))\n",
    "model.add(layers.Dense(46, activation='softmax'))"
   ]
  },
  {
   "cell_type": "code",
   "execution_count": 43,
   "metadata": {},
   "outputs": [],
   "source": [
    "# 3. Create opitmizer, loss_function, evaluation_metrics\n",
    "model.compile(optimizer='rmsprop',\n",
    "              loss='categorical_crossentropy',\n",
    "              metrics=['accuracy'])"
   ]
  },
  {
   "cell_type": "code",
   "execution_count": 44,
   "metadata": {
    "scrolled": true
   },
   "outputs": [
    {
     "name": "stdout",
     "output_type": "stream",
     "text": [
      "Train on 7982 samples, validate on 1000 samples\n",
      "Epoch 1/9\n",
      "7982/7982 [==============================] - 3s 419us/step - loss: 2.5395 - acc: 0.5223 - val_loss: 1.6728 - val_acc: 0.6570\n",
      "Epoch 2/9\n",
      "7982/7982 [==============================] - 2s 272us/step - loss: 1.3719 - acc: 0.7124 - val_loss: 1.2755 - val_acc: 0.7220\n",
      "Epoch 3/9\n",
      "7982/7982 [==============================] - 2s 204us/step - loss: 1.0145 - acc: 0.7780 - val_loss: 1.1315 - val_acc: 0.7520\n",
      "Epoch 4/9\n",
      "7982/7982 [==============================] - 1s 156us/step - loss: 0.7981 - acc: 0.8255 - val_loss: 1.0537 - val_acc: 0.7570\n",
      "Epoch 5/9\n",
      "7982/7982 [==============================] - 1s 152us/step - loss: 0.6396 - acc: 0.8624 - val_loss: 0.9767 - val_acc: 0.7930\n",
      "Epoch 6/9\n",
      "7982/7982 [==============================] - 1s 160us/step - loss: 0.5113 - acc: 0.8930 - val_loss: 0.9098 - val_acc: 0.8110\n",
      "Epoch 7/9\n",
      "7982/7982 [==============================] - 1s 149us/step - loss: 0.4106 - acc: 0.9151 - val_loss: 0.8924 - val_acc: 0.8200\n",
      "Epoch 8/9\n",
      "7982/7982 [==============================] - 1s 142us/step - loss: 0.3343 - acc: 0.9295 - val_loss: 0.8725 - val_acc: 0.8280\n",
      "Epoch 9/9\n",
      "7982/7982 [==============================] - 1s 144us/step - loss: 0.2776 - acc: 0.9371 - val_loss: 0.9362 - val_acc: 0.8020\n"
     ]
    }
   ],
   "source": [
    "# 4. Iterate/train/learn\n",
    "history = model.fit(partial_x_train,\n",
    "                    partial_y_train,\n",
    "                    batch_size=512,\n",
    "                    epochs=9,\n",
    "                    validation_data=(x_val, y_val))"
   ]
  },
  {
   "cell_type": "code",
   "execution_count": 45,
   "metadata": {},
   "outputs": [
    {
     "name": "stdout",
     "output_type": "stream",
     "text": [
      "dict_keys(['val_loss', 'val_acc', 'loss', 'acc'])\n"
     ]
    },
    {
     "data": {
      "image/png": "[encoded data removed]",
      "text/plain": [
       "<Figure size 432x288 with 1 Axes>"
      ]
     },
     "metadata": {},
     "output_type": "display_data"
    }
   ],
   "source": [
    "print(history.history.keys())\n",
    "# 5. Plot loss and accuracy\n",
    "loss = history.history['loss']\n",
    "val_loss = history.history['val_loss']\n",
    "acc = history.history['acc']\n",
    "val_acc = history.history['val_acc']\n",
    "\n",
    "# Plot loss\n",
    "\n",
    "epochs = range(1, len(acc) + 1)\n",
    "# 'bo' means blue dot\n",
    "plt.plot(epochs, loss, 'bo', label='Training loss')\n",
    "# 'b' means blue solid\n",
    "plt.plot(epochs, val_loss, 'b', label='Validation loss')\n",
    "plt.xlabel('Epochs')\n",
    "plt.ylabel('Loss')\n",
    "plt.title('Training and validation loss')\n",
    "plt.legend()\n",
    "\n",
    "plt.show()\n"
   ]
  },
  {
   "cell_type": "code",
   "execution_count": 46,
   "metadata": {},
   "outputs": [
    {
     "data": {
      "image/png": "[encoded data removed]",
      "text/plain": [
       "<Figure size 432x288 with 1 Axes>"
      ]
     },
     "metadata": {},
     "output_type": "display_data"
    }
   ],
   "source": [
    "# Plot acc\n",
    "plt.clf  # clear figure\n",
    "\n",
    "plt.plot(epochs, acc, 'bo', label='Training acc')\n",
    "plt.plot(epochs, val_acc, 'b', label='Validation acc')\n",
    "plt.xlabel('Epochs')\n",
    "plt.ylabel('Accuracy')\n",
    "plt.title('Training and validation accuracy')\n",
    "plt.legend()\n",
    "\n",
    "plt.show()"
   ]
  },
  {
   "cell_type": "code",
   "execution_count": 48,
   "metadata": {},
   "outputs": [
    {
     "name": "stdout",
     "output_type": "stream",
     "text": [
      "2246/2246 [==============================] - 0s 169us/step\n"
     ]
    },
    {
     "data": {
      "text/plain": [
       "[1.0241424485390884, 0.7760463045944832]"
      ]
     },
     "execution_count": 48,
     "metadata": {},
     "output_type": "execute_result"
    }
   ],
   "source": [
    "# Evaluating the model\n",
    "results = model.evaluate(x_test, y_test_one_hot)\n",
    "results"
   ]
  },
  {
   "cell_type": "code",
   "execution_count": 57,
   "metadata": {},
   "outputs": [
    {
     "data": {
      "text/plain": [
       "(10, 10)"
      ]
     },
     "execution_count": 57,
     "metadata": {},
     "output_type": "execute_result"
    }
   ],
   "source": [
    "# Predict\n",
    "predictions = model.predict(x_test)\n",
    "np.argmax(predictions[1]), test_labels[1]"
   ]
  },
  {
   "cell_type": "code",
   "execution_count": null,
   "metadata": {},
   "outputs": [],
   "source": []
  }
 ],
 "metadata": {
  "kernelspec": {
   "display_name": "Python 3",
   "language": "python",
   "name": "python3"
  },
  "language_info": {
   "codemirror_mode": {
    "name": "ipython",
    "version": 3
   },
   "file_extension": ".py",
   "mimetype": "text/x-python",
   "name": "python",
   "nbconvert_exporter": "python",
   "pygments_lexer": "ipython3",
   "version": "3.6.5"
  }
 },
 "nbformat": 4,
 "nbformat_minor": 2
}

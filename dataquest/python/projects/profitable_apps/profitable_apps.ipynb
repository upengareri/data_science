{
 "cells": [
  {
   "cell_type": "markdown",
   "metadata": {},
   "source": [
    "### Analysing Profitable Apps in Google and Apple Store\n",
    "\n",
    "Google and Apple app stores have millions of apps. Out of those millions of apps some are very famous and profitable while others are not. This project is about finding what makes an app profitable or which category of apps are more famous and profitable than others.\n",
    "\n",
    "The goal of this project is to get an understanding of what key points make an app successful. The project should give us an insight on which category apps are more famous so that the developers can get an idea of how to attract the users for their next app."
   ]
  },
  {
   "cell_type": "code",
   "execution_count": 81,
   "metadata": {},
   "outputs": [],
   "source": [
    "from collections import defaultdict, Counter"
   ]
  },
  {
   "cell_type": "code",
   "execution_count": 1,
   "metadata": {},
   "outputs": [],
   "source": [
    "def explore_data(dataset, start, end, rows_and_columns=False):\n",
    "    \"\"\"utility function to print dataset\"\"\"\n",
    "    dataset_slice = dataset[start:end]\n",
    "    for row in dataset_slice:\n",
    "        print(row)\n",
    "        print('\\n')\n",
    "    if rows_and_columns:\n",
    "        print(\"Number of rows:    \", len(dataset))\n",
    "        print(\"Number of columns: \", len(dataset[0]))"
   ]
  },
  {
   "cell_type": "code",
   "execution_count": 2,
   "metadata": {},
   "outputs": [
    {
     "name": "stdout",
     "output_type": "stream",
     "text": [
      "Exploring Apple Dataset: \n",
      "\n",
      "['389801252', 'Instagram', '113954816', 'USD', '0.0', '2161558', '1289', '4.5', '4.0', '10.23', '12+', 'Photo & Video', '37', '0', '29', '1']\n",
      "\n",
      "\n",
      "['529479190', 'Clash of Clans', '116476928', 'USD', '0.0', '2130805', '579', '4.5', '4.5', '9.24.12', '9+', 'Games', '38', '5', '18', '1']\n",
      "\n",
      "\n",
      "Number of rows:     7197\n",
      "Number of columns:  16\n"
     ]
    }
   ],
   "source": [
    "# create list of lists for both apple and google dataset\n",
    "from csv import reader\n",
    "with open(\"AppleStore.csv\", \"r\") as fp:\n",
    "    apple = reader(fp)\n",
    "    apple_data = list(apple)\n",
    "with open(\"googleplaystore.csv\", \"r\") as fp:\n",
    "    google = reader(fp)\n",
    "    google_data = list(google)\n",
    "    \n",
    "android_header = google_data[0]\n",
    "google_data = google_data[1:]\n",
    "ios_header = apple_data[0]\n",
    "apple_data = apple_data[1:]\n",
    "print(\"Exploring Apple Dataset: \\n\")\n",
    "explore_data(apple_data, 1, 3, True)"
   ]
  },
  {
   "cell_type": "code",
   "execution_count": 3,
   "metadata": {},
   "outputs": [
    {
     "name": "stdout",
     "output_type": "stream",
     "text": [
      "Apple columns\n",
      "['284882215', 'Facebook', '389879808', 'USD', '0.0', '2974676', '212', '3.5', '3.5', '95.0', '4+', 'Social Networking', '37', '1', '29', '1']\n",
      "\n",
      "\n",
      "Google columns\n",
      "['Photo Editor & Candy Camera & Grid & ScrapBook', 'ART_AND_DESIGN', '4.1', '159', '19M', '10,000+', 'Free', '0', 'Everyone', 'Art & Design', 'January 7, 2018', '1.0.0', '4.0.3 and up']\n"
     ]
    }
   ],
   "source": [
    "print(\"Apple columns\")\n",
    "print(apple_data[0])\n",
    "print(\"\\n\")\n",
    "print(\"Google columns\")\n",
    "print(google_data[0])"
   ]
  },
  {
   "cell_type": "markdown",
   "metadata": {},
   "source": [
    "#### More Info on Datasets\n",
    "\n",
    "To get detailed information about the Google Play Store dataset, go to [Google dataset](https://www.kaggle.com/lava18/google-play-store-apps)\n",
    "\n",
    "Similarly, more info about Apple App Store dataset can be found at [Apple dataset](https://www.kaggle.com/ramamet4/app-store-apple-data-set-10k-apps)"
   ]
  },
  {
   "cell_type": "markdown",
   "metadata": {},
   "source": [
    "### Data Cleaning\n",
    "\n",
    "The process of preparing our data for analysis is calle __data cleaning__.\n",
    "It includes -\n",
    "* _deleting or correcting_ wrong data\n",
    "* _deleting_ duplicate data\n",
    "* _modifing_ data to fit our needs\n",
    "\n",
    "`It is said that Data Scientist spend 80% of their time cleaning the data and 20% of their time in analysing it.`"
   ]
  },
  {
   "cell_type": "markdown",
   "metadata": {},
   "source": [
    "### Deleting wrong data\n",
    "The google dataset has a dedicated [discussion section](https://www.kaggle.com/lava18/google-play-store-apps/discussion) and we can check that [one of the discussions](https://www.kaggle.com/lava18/google-play-store-apps/discussion/66015) suggest us about the wrong data row. We'll try to find out if it is actually wrong."
   ]
  },
  {
   "cell_type": "code",
   "execution_count": 4,
   "metadata": {},
   "outputs": [
    {
     "name": "stdout",
     "output_type": "stream",
     "text": [
      "['Xposed Wi-Fi-Pwd', 'PERSONALIZATION', '3.5', '1042', '404k', '100,000+', 'Free', '0', 'Everyone', 'Personalization', 'August 5, 2014', '3.0.0', '4.0.3 and up']\n",
      "\n",
      "\n",
      "['App', 'Category', 'Rating', 'Reviews', 'Size', 'Installs', 'Type', 'Price', 'Content Rating', 'Genres', 'Last Updated', 'Current Ver', 'Android Ver']\n",
      "\n",
      "\n",
      "['Life Made WI-Fi Touchscreen Photo Frame', '1.9', '19', '3.0M', '1,000+', 'Free', '0', 'Everyone', '', 'February 11, 2018', '1.0.19', '4.0 and up']\n"
     ]
    }
   ],
   "source": [
    "print(google_data[10471])  # correct row\n",
    "print('\\n')\n",
    "print(android_header)  # header row\n",
    "print('\\n')\n",
    "print(google_data[10472])  # incorrect row"
   ]
  },
  {
   "cell_type": "code",
   "execution_count": 5,
   "metadata": {},
   "outputs": [
    {
     "name": "stdout",
     "output_type": "stream",
     "text": [
      "10841\n",
      "10840\n"
     ]
    }
   ],
   "source": [
    "# Looking at the kaggle discussion of the google dataset, we can see that the row at 10473 is missing some data points.\n",
    "print(len(google_data))\n",
    "del google_data[10472]\n",
    "print(len(google_data))"
   ]
  },
  {
   "cell_type": "markdown",
   "metadata": {},
   "source": [
    "### Removing duplicate entries\n",
    "__PART 1__\n",
    "\n",
    "By closing looking at the dataset, we can see that there are many duplicate entries. For instance, the app \"Instagram\" has four entries."
   ]
  },
  {
   "cell_type": "code",
   "execution_count": 6,
   "metadata": {},
   "outputs": [
    {
     "name": "stdout",
     "output_type": "stream",
     "text": [
      "['Instagram', 'SOCIAL', '4.5', '66577313', 'Varies with device', '1,000,000,000+', 'Free', '0', 'Teen', 'Social', 'July 31, 2018', 'Varies with device', 'Varies with device']\n",
      "['Instagram', 'SOCIAL', '4.5', '66577446', 'Varies with device', '1,000,000,000+', 'Free', '0', 'Teen', 'Social', 'July 31, 2018', 'Varies with device', 'Varies with device']\n",
      "['Instagram', 'SOCIAL', '4.5', '66577313', 'Varies with device', '1,000,000,000+', 'Free', '0', 'Teen', 'Social', 'July 31, 2018', 'Varies with device', 'Varies with device']\n",
      "['Instagram', 'SOCIAL', '4.5', '66509917', 'Varies with device', '1,000,000,000+', 'Free', '0', 'Teen', 'Social', 'July 31, 2018', 'Varies with device', 'Varies with device']\n"
     ]
    }
   ],
   "source": [
    "for app in google_data:\n",
    "    name = app[0]\n",
    "    if name == \"Instagram\":\n",
    "        print(app)"
   ]
  },
  {
   "cell_type": "code",
   "execution_count": 7,
   "metadata": {},
   "outputs": [
    {
     "name": "stdout",
     "output_type": "stream",
     "text": [
      "Length of duplicate apps: 1181\n",
      "Length of unique apps: 9659\n",
      "\n",
      "\n",
      "Few examples of duplicate apps -\n",
      "['Quick PDF Scanner + OCR FREE', 'Box', 'Google My Business', 'ZOOM Cloud Meetings', 'join.me - Simple Meetings', 'Box', 'Zenefits', 'Google Ads', 'Google My Business', 'Slack', 'FreshBooks Classic', 'Insightly CRM', 'QuickBooks Accounting: Invoicing & Expenses', 'HipChat - Chat Built for Teams', 'Xero Accounting Software']\n"
     ]
    }
   ],
   "source": [
    "duplicate_apps = []\n",
    "unique_apps = []\n",
    "for app in google_data:\n",
    "    app_name = app[0]\n",
    "    if app_name in unique_apps:\n",
    "        duplicate_apps.append(app_name)\n",
    "    else:\n",
    "        unique_apps.append(app_name)\n",
    "        \n",
    "print(f\"Length of duplicate apps: {len(duplicate_apps)}\")\n",
    "print(f\"Length of unique apps: {len(unique_apps)}\")  # -1 for header\n",
    "print(\"\\n\")\n",
    "print(\"Few examples of duplicate apps -\")\n",
    "print(duplicate_apps[:15])"
   ]
  },
  {
   "cell_type": "markdown",
   "metadata": {},
   "source": [
    "We can see that there are total of duplicate 1181 apps."
   ]
  },
  {
   "cell_type": "markdown",
   "metadata": {},
   "source": [
    "If we look at the instagram duplicates we can find that the review column of it is not unique. The different values show that the data was collected at different times. We can use this criterion for keeping rows. We will not randomly delete the duplicate rows but keep only that row which has more reviews as they make more reliabile ratings."
   ]
  },
  {
   "cell_type": "markdown",
   "metadata": {},
   "source": [
    "__PART 2__\n",
    "\n",
    "We will start by creating a dictionary that contains key as the app name and its highest review (among all its duplicate rows) as its value."
   ]
  },
  {
   "cell_type": "code",
   "execution_count": 8,
   "metadata": {},
   "outputs": [],
   "source": [
    "from collections import defaultdict\n",
    "reviews_max = defaultdict(int)\n",
    "\n",
    "for app in google_data:\n",
    "    app_name = app[0]\n",
    "    reviews = float(app[3])\n",
    "    old_review = reviews_max[app_name]\n",
    "    if old_review < reviews:\n",
    "        reviews_max[app_name] = reviews"
   ]
  },
  {
   "cell_type": "code",
   "execution_count": 9,
   "metadata": {},
   "outputs": [
    {
     "name": "stdout",
     "output_type": "stream",
     "text": [
      "True\n"
     ]
    }
   ],
   "source": [
    "print(len(unique_apps) == len(reviews_max))  # confirming actual vs expected length"
   ]
  },
  {
   "cell_type": "markdown",
   "metadata": {},
   "source": [
    "Using the dictionary we created, we will iterate over the entire dataset and select only those rows that match with dictionary (as the dictionary contains only those values with highest ratings). We will create a new dataset with the cleaned data.\n",
    "\n",
    "We will also create an additional data structure for keeping just the app names that have been added to the cleaned dataset. The reason for this is to ignore those entries which are duplicate and have the same number of ratings. If we just use `reviews==max_review` then there will still be some cases where the duplicate entries have same number of ratings."
   ]
  },
  {
   "cell_type": "code",
   "execution_count": 14,
   "metadata": {},
   "outputs": [
    {
     "name": "stdout",
     "output_type": "stream",
     "text": [
      "9659\n",
      "True\n"
     ]
    }
   ],
   "source": [
    "cleaned_android = []\n",
    "already_added = []\n",
    "for app in google_data:\n",
    "    app_name = app[0]\n",
    "    reviews = float(app[3])\n",
    "    max_review = reviews_max[app_name]\n",
    "    if max_review == reviews and app_name not in already_added:\n",
    "        cleaned_android.append(app)\n",
    "        already_added.append(app_name)\n",
    "\n",
    "print(len(cleaned_android) == len(reviews_max) == len(unique_apps))"
   ]
  },
  {
   "cell_type": "code",
   "execution_count": 16,
   "metadata": {},
   "outputs": [
    {
     "name": "stdout",
     "output_type": "stream",
     "text": [
      "['Photo Editor & Candy Camera & Grid & ScrapBook', 'ART_AND_DESIGN', '4.1', '159', '19M', '10,000+', 'Free', '0', 'Everyone', 'Art & Design', 'January 7, 2018', '1.0.0', '4.0.3 and up']\n",
      "\n",
      "\n",
      "['U Launcher Lite – FREE Live Cool Themes, Hide Apps', 'ART_AND_DESIGN', '4.7', '87510', '8.7M', '5,000,000+', 'Free', '0', 'Everyone', 'Art & Design', 'August 1, 2018', '1.2.4', '4.0.3 and up']\n",
      "\n",
      "\n",
      "['Sketch - Draw & Paint', 'ART_AND_DESIGN', '4.5', '215644', '25M', '50,000,000+', 'Free', '0', 'Teen', 'Art & Design', 'June 8, 2018', 'Varies with device', '4.2 and up']\n",
      "\n",
      "\n",
      "Number of rows:     9659\n",
      "Number of columns:  13\n"
     ]
    }
   ],
   "source": [
    "explore_data(cleaned_android, 0, 3, True)"
   ]
  },
  {
   "cell_type": "markdown",
   "metadata": {},
   "source": [
    "### Removing non-english apps\n",
    "#### Part 1\n",
    "If we explore the dataset enough, we would find that are certain apps that are not directed towards English speaking audience. Below we see a couple of examples from both dataset -"
   ]
  },
  {
   "cell_type": "code",
   "execution_count": 44,
   "metadata": {},
   "outputs": [
    {
     "name": "stdout",
     "output_type": "stream",
     "text": [
      "爱奇艺PPS -《欢乐颂2》电视剧热播\n",
      "【脱出ゲーム】絶対に最後までプレイしないで 〜謎解き＆ブロックパズル〜\n",
      "中国語 AQリスニング\n",
      "لعبة تقدر تربح DZ\n"
     ]
    }
   ],
   "source": [
    "print(apple_data[813][1])\n",
    "print(apple_data[6731][1])\n",
    "\n",
    "print(cleaned_android[4412][0])\n",
    "print(cleaned_android[7940][0])"
   ]
  },
  {
   "cell_type": "markdown",
   "metadata": {},
   "source": [
    "We will write a function that takes a string and checks if the string is ASCII charater or not. ASCII chart suggests that the english characters fall under ASCII numbers between 0 and 127. To convert a character into ASCII number, we'll use in-built function `ord()`. Thus, our function would check if the string character falls under 127 or not and return boolean correspondingly."
   ]
  },
  {
   "cell_type": "code",
   "execution_count": 19,
   "metadata": {},
   "outputs": [],
   "source": [
    "def is_english(word):\n",
    "    for c in word:\n",
    "        if ord(c) > 127:\n",
    "            return False\n",
    "    return True"
   ]
  },
  {
   "cell_type": "code",
   "execution_count": 20,
   "metadata": {},
   "outputs": [
    {
     "name": "stdout",
     "output_type": "stream",
     "text": [
      "True\n",
      "False\n",
      "False\n",
      "False\n"
     ]
    }
   ],
   "source": [
    "test_non_english = [\"Instagram\", \"爱奇艺PPS -《欢乐颂2》电视剧热播\", \"Docs To Go™ Free Office Suite\", \"Instachat 😜\"]\n",
    "for sample in test_non_english:\n",
    "    print(is_english(sample))"
   ]
  },
  {
   "cell_type": "markdown",
   "metadata": {},
   "source": [
    "There can be some cases where the app is intended for english speaking audience but has emoji or characters like `™`.\n",
    "We may loose many data if we filter out harshly. To counter that, we will accept at most 3 non-ascii characters in the app name and accept it as english app if it satisfied the boundary set. Although it is not a perfect solution but it should include those apps with 3 emojis or less and other use cases.\n",
    "\n",
    "To achieve that we will use a flag to count the number of non-ascii characters in a word."
   ]
  },
  {
   "cell_type": "markdown",
   "metadata": {},
   "source": [
    "#### Part 2\n",
    "\n",
    "To minimize the data loss, let's override the basic `is_english` function."
   ]
  },
  {
   "cell_type": "code",
   "execution_count": 39,
   "metadata": {},
   "outputs": [],
   "source": [
    "def is_english(word):\n",
    "    non_ascii = 0\n",
    "    for c in word:\n",
    "        if ord(c) > 127:\n",
    "            if non_ascii >= 3:\n",
    "                return False\n",
    "            else:\n",
    "                non_ascii += 1\n",
    "    return True"
   ]
  },
  {
   "cell_type": "code",
   "execution_count": 40,
   "metadata": {},
   "outputs": [
    {
     "name": "stdout",
     "output_type": "stream",
     "text": [
      "True\n",
      "False\n",
      "False\n",
      "True\n",
      "True\n"
     ]
    }
   ],
   "source": [
    "test_non_english = [\"Instagram 😜😜😜\", \"Instagram 😜😜😜😜\", \"爱奇艺PPS -《欢乐颂2》电视剧热播\", \"Docs To Go™ Free Office Suite\", \"Instachat 😜\"]\n",
    "for sample in test_non_english:\n",
    "    print(is_english(sample))"
   ]
  },
  {
   "cell_type": "markdown",
   "metadata": {},
   "source": [
    "At this point, we save fairly good amount of english directed apps. We will stop the optimization at this point for english related apps and now use the function to clean our dataset."
   ]
  },
  {
   "cell_type": "code",
   "execution_count": 46,
   "metadata": {},
   "outputs": [
    {
     "name": "stdout",
     "output_type": "stream",
     "text": [
      "Length of english android apps:  9614\n",
      "Length of english ios apps:  6183\n"
     ]
    }
   ],
   "source": [
    "android_english = []\n",
    "ios_english = []\n",
    "for app in cleaned_android:\n",
    "    app_name = app[0]\n",
    "    if is_english(app_name):\n",
    "        android_english.append(app)\n",
    "\n",
    "for app in apple_data:\n",
    "    app_name = app[1]\n",
    "    if is_english(app_name):\n",
    "        ios_english.append(app)\n",
    "        \n",
    "print(\"Length of english android apps: \", len(android_english))\n",
    "print(\"Length of english ios apps: \", len(ios_english))"
   ]
  },
  {
   "cell_type": "markdown",
   "metadata": {},
   "source": [
    "We see that we are left with __9614__ android apps and __6183__ ios apps."
   ]
  },
  {
   "cell_type": "code",
   "execution_count": 58,
   "metadata": {},
   "outputs": [
    {
     "name": "stdout",
     "output_type": "stream",
     "text": [
      "We reduced: 0.47 percentage of non-english android apps\n",
      "We reduced: 14.09 percentage of non-english ios apps\n"
     ]
    }
   ],
   "source": [
    "non_english_android_perc = (1 - (len(android_english) / len(cleaned_android))) * 100\n",
    "print(f\"We reduced: {round(non_english_android_perc, 2)} percentage of non-english android apps\")\n",
    "non_english_ios_perc = (1 - (len(ios_english) / len(apple_data))) * 100\n",
    "print(f\"We reduced: {round(non_english_ios_perc, 2)} percentage of non-english ios apps\")"
   ]
  },
  {
   "cell_type": "markdown",
   "metadata": {},
   "source": [
    "### Selecting only the free apps\n",
    "We are only interested in building free apps, as our main source of revenue is in-app ads. We will separate or select only those apps that are free. This will be our last step in the process of _Data Cleaning_ in which we already covered - \n",
    "> * Removing inaccurate data\n",
    "> * Removing duplicate entries\n",
    "> * Removing non-english apps"
   ]
  },
  {
   "cell_type": "code",
   "execution_count": 60,
   "metadata": {},
   "outputs": [
    {
     "name": "stdout",
     "output_type": "stream",
     "text": [
      "Checking Android Header\n",
      "['App', 'Category', 'Rating', 'Reviews', 'Size', 'Installs', 'Type', 'Price', 'Content Rating', 'Genres', 'Last Updated', 'Current Ver', 'Android Ver']\n",
      "\n",
      "\n",
      "Checking iOS Header\n",
      "['id', 'track_name', 'size_bytes', 'currency', 'price', 'rating_count_tot', 'rating_count_ver', 'user_rating', 'user_rating_ver', 'ver', 'cont_rating', 'prime_genre', 'sup_devices.num', 'ipadSc_urls.num', 'lang.num', 'vpp_lic']\n"
     ]
    }
   ],
   "source": [
    "print(\"Checking Android Header\")\n",
    "print(android_header)\n",
    "print('\\n')\n",
    "print(\"Checking iOS Header\")\n",
    "print(ios_header)"
   ]
  },
  {
   "cell_type": "code",
   "execution_count": 80,
   "metadata": {
    "collapsed": true
   },
   "outputs": [
    {
     "name": "stdout",
     "output_type": "stream",
     "text": [
      "['Mirror Camera (Mirror + Selfie Camera)', 'BEAUTY', '4.1', '9315', '2.6M', '1,000,000+', 'Free', '0', 'Everyone', 'Beauty', 'November 21, 2017', '1.4.2', '4.0 and up']\n",
      "\n",
      "\n",
      "['Beauty Tips - Beauty Tips in Sinhala', 'BEAUTY', '4.4', '75', '4.2M', '50,000+', 'Free', '0', 'Everyone', 'Beauty', 'October 18, 2017', '1.0.0', '4.0.3 and up']\n",
      "\n",
      "\n",
      "['Haircut Tutorials/Haircut Videos', 'BEAUTY', '4.6', '38', '7.1M', '10,000+', 'Free', '0', 'Everyone', 'Beauty', 'May 29, 2018', '1.0', '4.0 and up']\n",
      "\n",
      "\n",
      "['Sephora: Skin Care, Beauty Makeup & Fragrance Shop', 'BEAUTY', '4.5', '26834', '57M', '1,000,000+', 'Free', '0', 'Everyone', 'Beauty', 'July 24, 2018', '18.5', '5.0 and up']\n",
      "\n",
      "\n"
     ]
    }
   ],
   "source": [
    "explore_data(android_english, 115, 119, False)"
   ]
  },
  {
   "cell_type": "code",
   "execution_count": 75,
   "metadata": {},
   "outputs": [
    {
     "name": "stdout",
     "output_type": "stream",
     "text": [
      "8864\n",
      "3222\n"
     ]
    }
   ],
   "source": [
    "android_final = []\n",
    "ios_final = []\n",
    "for app in android_english:\n",
    "    price = app[7]\n",
    "    if price == \"0\":\n",
    "        android_final.append(app)\n",
    "for app in ios_english:\n",
    "    price = app[4]\n",
    "    if price == \"0.0\":\n",
    "        ios_final.append(app)\n",
    "        \n",
    "print(len(android_final))\n",
    "print(len(ios_final))"
   ]
  },
  {
   "cell_type": "markdown",
   "metadata": {},
   "source": [
    "### Most Common Apps By Genre\n",
    "#### Part 1\n",
    "Our __VALIDATION STRATEGY__ for building an app would consist of following steps -\n",
    "    1. Find out the most popular app by genre common in both Google and Apple Store\n",
    "    2. Create a minimal android version app of that genre and publish it\n",
    "    3. If the app has a good response, we develop it further\n",
    "    4. Release the full version of the app in both the app stores"
   ]
  },
  {
   "cell_type": "markdown",
   "metadata": {},
   "source": [
    "To find out the popular apps by genre, we are going to create a frequency table that will contain info about the genre and the number of apps belonging to it."
   ]
  },
  {
   "cell_type": "markdown",
   "metadata": {},
   "source": [
    "#### Part 2\n",
    "We will build two functions -\n",
    "* One will create a frequency table of the most common genres of apps in the different stores.\n",
    "* The second function will display the list of genres in percentage in descending order."
   ]
  },
  {
   "cell_type": "code",
   "execution_count": 122,
   "metadata": {},
   "outputs": [
    {
     "name": "stdout",
     "output_type": "stream",
     "text": [
      "Total genres found in android: 114\n",
      "Total categories found in android: 33\n",
      "Total genres found in ios: 23\n"
     ]
    }
   ],
   "source": [
    "def freq_table(dataset, index):\n",
    "    \"\"\"Creates a dictionary with key as the different values of a column 'marked by index' \n",
    "    and value as the number of times it occured \n",
    "    dataset: list of list\n",
    "    index: column number as an int\n",
    "    returns dictionary\"\"\"\n",
    "    freq_table = Counter()\n",
    "    for row in dataset:\n",
    "        column = row[index]\n",
    "        freq_table[column] += 1\n",
    "        \n",
    "    for k, v in freq_table.items():\n",
    "        freq_table[k] = round((v / len(dataset)) * 100, 2)\n",
    "    return freq_table\n",
    "\n",
    "android_genre_frequency = freq_table(android_final, 9)\n",
    "android_category_frequency = freq_table(android_final, 1)\n",
    "ios_genre_frequency = freq_table(ios_final, 11)\n",
    "print(f\"Total genres found in android: {len(android_genre_frequency)}\")\n",
    "print(f\"Total categories found in android: {len(android_category_frequency)}\")\n",
    "print(f\"Total genres found in ios: {len(ios_genre_frequency)}\")"
   ]
  },
  {
   "cell_type": "markdown",
   "metadata": {},
   "source": [
    "Lets sort the frequency tables so that the top genre is shown first."
   ]
  },
  {
   "cell_type": "code",
   "execution_count": 123,
   "metadata": {},
   "outputs": [],
   "source": [
    "def display_table(freq):\n",
    "    sorted_list = sorted(freq.items(), key=lambda item: item[1], reverse=True)\n",
    "    for t in sorted_list:\n",
    "        print(t[0], t[1])"
   ]
  },
  {
   "cell_type": "markdown",
   "metadata": {},
   "source": [
    "#### Part 3\n",
    "We will start by analysing the most common genres in iOS app store."
   ]
  },
  {
   "cell_type": "code",
   "execution_count": 124,
   "metadata": {},
   "outputs": [
    {
     "name": "stdout",
     "output_type": "stream",
     "text": [
      "Games 58.16\n",
      "Entertainment 7.88\n",
      "Photo & Video 4.97\n",
      "Education 3.66\n",
      "Social Networking 3.29\n",
      "Shopping 2.61\n",
      "Utilities 2.51\n",
      "Sports 2.14\n",
      "Music 2.05\n",
      "Health & Fitness 2.02\n",
      "Productivity 1.74\n",
      "Lifestyle 1.58\n",
      "News 1.33\n",
      "Travel 1.24\n",
      "Finance 1.12\n",
      "Weather 0.87\n",
      "Food & Drink 0.81\n",
      "Reference 0.56\n",
      "Business 0.53\n",
      "Book 0.43\n",
      "Navigation 0.19\n",
      "Medical 0.19\n",
      "Catalogs 0.12\n"
     ]
    }
   ],
   "source": [
    "display_table(ios_genre_frequency)"
   ]
  },
  {
   "cell_type": "markdown",
   "metadata": {},
   "source": [
    "Looking at the data, we can conclude that more than half (58.16) of the english directed apps in iOS app store consists of games. Entertainment apps cover approximately 8% of the market followed by photo and video consisting of appx. 5% share. Education related apps comes in fourth position followed by social networking apps.\n",
    "\n",
    "The general impression after looking at the list (of english directed apps) is that the market is dominated by apps that are designed for fun (games, entertainment, photo and video, social networking, sports etc.) while apps related to practical purpose (education, health, lifestyle etc.) are a bit rare. However, with this statistics it is difficult to say that the apps with most shares are equally liked by the users - __the supply can be more than the demand.__\n",
    "\n",
    "Let's continue by looking at the category and genre section of the Google play store."
   ]
  },
  {
   "cell_type": "code",
   "execution_count": 127,
   "metadata": {},
   "outputs": [
    {
     "name": "stdout",
     "output_type": "stream",
     "text": [
      "FAMILY 18.91\n",
      "GAME 9.72\n",
      "TOOLS 8.46\n",
      "BUSINESS 4.59\n",
      "LIFESTYLE 3.9\n",
      "PRODUCTIVITY 3.89\n",
      "FINANCE 3.7\n",
      "MEDICAL 3.53\n",
      "SPORTS 3.4\n",
      "PERSONALIZATION 3.32\n",
      "COMMUNICATION 3.24\n",
      "HEALTH_AND_FITNESS 3.08\n",
      "PHOTOGRAPHY 2.94\n",
      "NEWS_AND_MAGAZINES 2.8\n",
      "SOCIAL 2.66\n",
      "TRAVEL_AND_LOCAL 2.34\n",
      "SHOPPING 2.25\n",
      "BOOKS_AND_REFERENCE 2.14\n",
      "DATING 1.86\n",
      "VIDEO_PLAYERS 1.79\n",
      "MAPS_AND_NAVIGATION 1.4\n",
      "FOOD_AND_DRINK 1.24\n",
      "EDUCATION 1.16\n",
      "ENTERTAINMENT 0.96\n",
      "LIBRARIES_AND_DEMO 0.94\n",
      "AUTO_AND_VEHICLES 0.93\n",
      "HOUSE_AND_HOME 0.82\n",
      "WEATHER 0.8\n",
      "EVENTS 0.71\n",
      "PARENTING 0.65\n",
      "ART_AND_DESIGN 0.64\n",
      "COMICS 0.62\n",
      "BEAUTY 0.6\n"
     ]
    }
   ],
   "source": [
    "display_table(android_category_frequency)"
   ]
  },
  {
   "cell_type": "markdown",
   "metadata": {},
   "source": [
    "The data looks different for the Google app store. Practical apps seem to be more compared to the fun apps. However, if we investigate more we can see that the apps under Family which cover almost 19% of the share consists of games for kids."
   ]
  },
  {
   "cell_type": "markdown",
   "metadata": {},
   "source": [
    "![](./google_play_store.png)"
   ]
  },
  {
   "cell_type": "markdown",
   "metadata": {},
   "source": [
    "Even then, practical apps seem to be more common than the fun apps. This also gets confirmed by the gernre category of the apps below -"
   ]
  },
  {
   "cell_type": "code",
   "execution_count": 128,
   "metadata": {},
   "outputs": [
    {
     "name": "stdout",
     "output_type": "stream",
     "text": [
      "Tools 8.45\n",
      "Entertainment 6.07\n",
      "Education 5.35\n",
      "Business 4.59\n",
      "Lifestyle 3.89\n",
      "Productivity 3.89\n",
      "Finance 3.7\n",
      "Medical 3.53\n",
      "Sports 3.46\n",
      "Personalization 3.32\n",
      "Communication 3.24\n",
      "Action 3.1\n",
      "Health & Fitness 3.08\n",
      "Photography 2.94\n",
      "News & Magazines 2.8\n",
      "Social 2.66\n",
      "Travel & Local 2.32\n",
      "Shopping 2.25\n",
      "Books & Reference 2.14\n",
      "Simulation 2.04\n",
      "Dating 1.86\n",
      "Arcade 1.85\n",
      "Video Players & Editors 1.77\n",
      "Casual 1.76\n",
      "Maps & Navigation 1.4\n",
      "Food & Drink 1.24\n",
      "Puzzle 1.13\n",
      "Racing 0.99\n",
      "Libraries & Demo 0.94\n",
      "Role Playing 0.94\n",
      "Auto & Vehicles 0.93\n",
      "Strategy 0.91\n",
      "House & Home 0.82\n",
      "Weather 0.8\n",
      "Events 0.71\n",
      "Adventure 0.68\n",
      "Comics 0.61\n",
      "Art & Design 0.6\n",
      "Beauty 0.6\n",
      "Parenting 0.5\n",
      "Card 0.45\n",
      "Casino 0.43\n",
      "Trivia 0.42\n",
      "Educational;Education 0.39\n",
      "Board 0.38\n",
      "Educational 0.37\n",
      "Education;Education 0.34\n",
      "Word 0.26\n",
      "Casual;Pretend Play 0.24\n",
      "Music 0.2\n",
      "Entertainment;Music & Video 0.17\n",
      "Puzzle;Brain Games 0.17\n",
      "Racing;Action & Adventure 0.17\n",
      "Casual;Brain Games 0.14\n",
      "Casual;Action & Adventure 0.14\n",
      "Arcade;Action & Adventure 0.12\n",
      "Action;Action & Adventure 0.1\n",
      "Educational;Pretend Play 0.09\n",
      "Entertainment;Brain Games 0.08\n",
      "Simulation;Action & Adventure 0.08\n",
      "Board;Brain Games 0.08\n",
      "Parenting;Education 0.08\n",
      "Art & Design;Creativity 0.07\n",
      "Educational;Brain Games 0.07\n",
      "Casual;Creativity 0.07\n",
      "Parenting;Music & Video 0.07\n",
      "Education;Pretend Play 0.06\n",
      "Education;Creativity 0.05\n",
      "Role Playing;Pretend Play 0.05\n",
      "Education;Brain Games 0.03\n",
      "Entertainment;Creativity 0.03\n",
      "Educational;Creativity 0.03\n",
      "Adventure;Action & Adventure 0.03\n",
      "Role Playing;Action & Adventure 0.03\n",
      "Educational;Action & Adventure 0.03\n",
      "Entertainment;Action & Adventure 0.03\n",
      "Puzzle;Action & Adventure 0.03\n",
      "Education;Action & Adventure 0.03\n",
      "Education;Music & Video 0.03\n",
      "Casual;Education 0.02\n",
      "Music;Music & Video 0.02\n",
      "Simulation;Pretend Play 0.02\n",
      "Puzzle;Creativity 0.02\n",
      "Sports;Action & Adventure 0.02\n",
      "Board;Action & Adventure 0.02\n",
      "Entertainment;Pretend Play 0.02\n",
      "Video Players & Editors;Music & Video 0.02\n",
      "Comics;Creativity 0.01\n",
      "Lifestyle;Pretend Play 0.01\n",
      "Art & Design;Pretend Play 0.01\n",
      "Entertainment;Education 0.01\n",
      "Arcade;Pretend Play 0.01\n",
      "Art & Design;Action & Adventure 0.01\n",
      "Strategy;Action & Adventure 0.01\n",
      "Music & Audio;Music & Video 0.01\n",
      "Health & Fitness;Education 0.01\n",
      "Casual;Music & Video 0.01\n",
      "Travel & Local;Action & Adventure 0.01\n",
      "Tools;Education 0.01\n",
      "Parenting;Brain Games 0.01\n",
      "Video Players & Editors;Creativity 0.01\n",
      "Health & Fitness;Action & Adventure 0.01\n",
      "Trivia;Education 0.01\n",
      "Lifestyle;Education 0.01\n",
      "Card;Action & Adventure 0.01\n",
      "Books & Reference;Education 0.01\n",
      "Simulation;Education 0.01\n",
      "Puzzle;Education 0.01\n",
      "Adventure;Education 0.01\n",
      "Role Playing;Brain Games 0.01\n",
      "Strategy;Education 0.01\n",
      "Racing;Pretend Play 0.01\n",
      "Communication;Creativity 0.01\n",
      "Strategy;Creativity 0.01\n"
     ]
    }
   ],
   "source": [
    "display_table(android_genre_frequency)"
   ]
  },
  {
   "cell_type": "markdown",
   "metadata": {},
   "source": [
    "Looking at all the three dataset, we can say that the Apple store has more fun related apps while Google app store is kind of balanced towards practical purpose as well as for-fun apps. We will now move forward and look into the kind of apps that have most number of users."
   ]
  },
  {
   "cell_type": "code",
   "execution_count": 132,
   "metadata": {},
   "outputs": [
    {
     "name": "stdout",
     "output_type": "stream",
     "text": [
      "['id', 'track_name', 'size_bytes', 'currency', 'price', 'rating_count_tot', 'rating_count_ver', 'user_rating', 'user_rating_ver', 'ver', 'cont_rating', 'prime_genre', 'sup_devices.num', 'ipadSc_urls.num', 'lang.num', 'vpp_lic']\n",
      "\n",
      "\n",
      "['284882215', 'Facebook', '389879808', 'USD', '0.0', '2974676', '212', '3.5', '3.5', '95.0', '4+', 'Social Networking', '37', '1', '29', '1']\n",
      "\n",
      "\n",
      "['App', 'Category', 'Rating', 'Reviews', 'Size', 'Installs', 'Type', 'Price', 'Content Rating', 'Genres', 'Last Updated', 'Current Ver', 'Android Ver']\n",
      "\n",
      "\n",
      "['Photo Editor & Candy Camera & Grid & ScrapBook', 'ART_AND_DESIGN', '4.1', '159', '19M', '10,000+', 'Free', '0', 'Everyone', 'Art & Design', 'January 7, 2018', '1.0.0', '4.0.3 and up']\n"
     ]
    }
   ],
   "source": [
    "print(ios_header)\n",
    "print('\\n')\n",
    "print(ios_final[0])\n",
    "print('\\n')\n",
    "print(android_header)\n",
    "print('\\n')\n",
    "print(android_final[0])"
   ]
  },
  {
   "cell_type": "markdown",
   "metadata": {},
   "source": [
    "### Most Popular Apps By Genre On The App Store (Apple)\n",
    "To find out the most number of users for an app, we can look into the number of installs. For Google play store, we get this information by looking into the 'Installs' column. But for Apple app store, the 'installs' column is missing. We will use a workaround, where we'll take the 'rating_count_tot' as the column that tells the approx number of ratings.\n",
    "\n",
    "Below, we find out the average number of ratings for app store."
   ]
  },
  {
   "cell_type": "code",
   "execution_count": 140,
   "metadata": {},
   "outputs": [
    {
     "name": "stdout",
     "output_type": "stream",
     "text": [
      "Navigation  :  86090.33333333333\n",
      "Reference  :  74942.11111111111\n",
      "Social Networking  :  71548.34905660378\n",
      "Music  :  57326.530303030304\n",
      "Weather  :  52279.892857142855\n",
      "Book  :  39758.5\n",
      "Food & Drink  :  33333.92307692308\n",
      "Finance  :  31467.944444444445\n",
      "Photo & Video  :  28441.54375\n",
      "Travel  :  28243.8\n",
      "Shopping  :  26919.690476190477\n",
      "Health & Fitness  :  23298.015384615384\n",
      "Sports  :  23008.898550724636\n",
      "Games  :  22788.6696905016\n",
      "News  :  21248.023255813954\n",
      "Productivity  :  21028.410714285714\n",
      "Utilities  :  18684.456790123455\n",
      "Lifestyle  :  16485.764705882353\n",
      "Entertainment  :  14029.830708661417\n",
      "Business  :  7491.117647058823\n",
      "Education  :  7003.983050847458\n",
      "Catalogs  :  4004.0\n",
      "Medical  :  612.0\n"
     ]
    }
   ],
   "source": [
    "ios_ratings_per_genre = defaultdict(int)  # genre: total_ratings ...1\n",
    "apps_per_genre = defaultdict(int)  # genre: total_apps ...2\n",
    "ios_avg_ratings_per_genre = {}  # genre: avg_rating ...(1 divide by 2)\n",
    "for app in ios_final:\n",
    "    genre = app[-5]\n",
    "    rating = float(app[5])\n",
    "    ios_ratings_per_genre[genre] += rating\n",
    "    apps_per_genre[genre] += 1\n",
    "    \n",
    "for genre, rating in sorted_ios_ratings_per_genre:\n",
    "    avg_ratings_per_genre = rating / apps_per_genre[genre]\n",
    "    ios_avg_ratings_per_genre[genre] = avg_ratings_per_genre\n",
    "    \n",
    "sorted_ios_ratings_per_genre = sorted(ios_avg_ratings_per_genre.items(), key=lambda t: t[1], reverse=True)\n",
    "for k, v in sorted_ios_ratings_per_genre:\n",
    "    print(k, \" : \", v)"
   ]
  },
  {
   "cell_type": "markdown",
   "metadata": {},
   "source": [
    "In general, the 'Navigation' apps have more average ratings than any other genre. But let's check if it is influenced by only few apps within that genre (__imbalanced distribution__) or is it a __normal distribution__."
   ]
  },
  {
   "cell_type": "code",
   "execution_count": 141,
   "metadata": {
    "collapsed": true
   },
   "outputs": [
    {
     "name": "stdout",
     "output_type": "stream",
     "text": [
      "Waze - GPS Navigation, Maps & Real-time Traffic  :  345046\n",
      "Google Maps - Navigation & Transit  :  154911\n",
      "Geocaching®  :  12811\n",
      "CoPilot GPS – Car Navigation & Offline Maps  :  3582\n",
      "ImmobilienScout24: Real Estate Search in Germany  :  187\n",
      "Railway Route Search  :  5\n"
     ]
    }
   ],
   "source": [
    "for app in ios_final:\n",
    "    if app[-5] == \"Navigation\":\n",
    "        print(app[1], \" : \", app[5])"
   ]
  },
  {
   "cell_type": "markdown",
   "metadata": {},
   "source": [
    "We see that it is a case of imbalanced distribution of ratings wherein most rating count is coming from '_Waze - GPS Navigation, Maps & Real-time Traffic_' and '_Google Maps - Navigation & Transit_' apps.\n",
    "\n",
    "The same pattern applies to 'Social Networking' genre where the ratings are high for giants like Facebook, Pinterest, Skype etc. Similarly for 'Music', the main players are giants like Spotify, Pandora and Shazam. \n",
    "\n",
    "The most popular genres bases on average ratings seems to be navigation, social networking and music. But the average raring is heavily influenced by just few of the apps within their respective category. One way of moving ahead could be to remove the first few giants from those genres and then try to find out the average rating per genre but that could be skipped for later work."
   ]
  },
  {
   "cell_type": "code",
   "execution_count": 142,
   "metadata": {
    "collapsed": true
   },
   "outputs": [
    {
     "name": "stdout",
     "output_type": "stream",
     "text": [
      "Bible  :  985920\n",
      "Dictionary.com Dictionary & Thesaurus  :  200047\n",
      "Dictionary.com Dictionary & Thesaurus for iPad  :  54175\n",
      "Google Translate  :  26786\n",
      "Muslim Pro: Ramadan 2017 Prayer Times, Azan, Quran  :  18418\n",
      "New Furniture Mods - Pocket Wiki & Game Tools for Minecraft PC Edition  :  17588\n",
      "Merriam-Webster Dictionary  :  16849\n",
      "Night Sky  :  12122\n",
      "City Maps for Minecraft PE - The Best Maps for Minecraft Pocket Edition (MCPE)  :  8535\n",
      "LUCKY BLOCK MOD ™ for Minecraft PC Edition - The Best Pocket Wiki & Mods Installer Tools  :  4693\n",
      "GUNS MODS for Minecraft PC Edition - Mods Tools  :  1497\n",
      "Guides for Pokémon GO - Pokemon GO News and Cheats  :  826\n",
      "WWDC  :  762\n",
      "Horror Maps for Minecraft PE - Download The Scariest Maps for Minecraft Pocket Edition (MCPE) Free  :  718\n",
      "VPN Express  :  14\n",
      "Real Bike Traffic Rider Virtual Reality Glasses  :  8\n",
      "教えて!goo  :  0\n",
      "Jishokun-Japanese English Dictionary & Translator  :  0\n"
     ]
    }
   ],
   "source": [
    "for app in ios_final:\n",
    "    if app[-5] == \"Reference\":\n",
    "        print(app[1], \" : \", app[5])"
   ]
  },
  {
   "cell_type": "markdown",
   "metadata": {},
   "source": [
    "Looking into the second most populare category by rating, we see that 'Bible' and 'Dictionary.com' has the highest influence on the average rating. But it seems like this niche has some potentials. We could take another popular book and convert it into an app and also adding special features to it. The features might include daily quotes from the book, audio version of the book, quizzes around the book. We could also embed a dictionary on top of the app so that the user doesn't have to go out of the book to find a meaning for any word.\n",
    "\n",
    "This idea could also be backed by the fact that most apps are dominated by fun-apps. It could also be that the market is saturated by fun apps and rather focusing towards making a productivity or practical purpose app into a fun one could be a good strategy to make it popular on the app store.\n",
    "\n",
    "Other popular genre apps does not seem to be interesting for the reasons below -\n",
    "* Weather apps - They are not engaging enough as the user might just look into the weather and close the app. The chances of making profit from this app using in-app ads seem to become low if it is not engaging.\n",
    "* Food & Drink - Mostly influenced by Starbucks, Mc Donalds etc. So, making an app would mean actual cooking and delivery service, and we don't want to open a kitchen to develop an app.\n",
    "* Financial apps - they involve banking, paying bills, money transfer etc, and we don't have expertise in the domain. It would mean for us to consult or hire a finance person and we don't want that.\n",
    "\n",
    "Now, let's analyze the Google Play Store."
   ]
  },
  {
   "cell_type": "markdown",
   "metadata": {},
   "source": [
    "### Most Popular Apps By Genre On The Play Store (Google)\n",
    "The google play store has an obvious column for the number of install per app. It should be fairly clear to get an idea about the popularity of the app with that number. So, let's begin."
   ]
  },
  {
   "cell_type": "code",
   "execution_count": 144,
   "metadata": {
    "collapsed": true
   },
   "outputs": [
    {
     "name": "stdout",
     "output_type": "stream",
     "text": [
      "1,000,000+ 15.73\n",
      "100,000+ 11.55\n",
      "10,000,000+ 10.55\n",
      "10,000+ 10.2\n",
      "1,000+ 8.39\n",
      "100+ 6.92\n",
      "5,000,000+ 6.83\n",
      "500,000+ 5.56\n",
      "50,000+ 4.77\n",
      "5,000+ 4.51\n",
      "10+ 3.54\n",
      "500+ 3.25\n",
      "50,000,000+ 2.3\n",
      "100,000,000+ 2.13\n",
      "50+ 1.92\n",
      "5+ 0.79\n",
      "1+ 0.51\n",
      "500,000,000+ 0.27\n",
      "1,000,000,000+ 0.23\n",
      "0+ 0.05\n",
      "0 0.01\n"
     ]
    }
   ],
   "source": [
    "display_table(freq_table(android_final, 5))  # Installs column"
   ]
  },
  {
   "cell_type": "markdown",
   "metadata": {},
   "source": [
    "We see in the above output that the installs column is not precise. It is __open ended__.\n",
    "It is not clear from (for example) 100,000+ if it is 100,500 or 190,000 or in between. \n",
    "\n",
    "Here we will take an assumption and keep the numbers as it is. However, to perform the computation we will remove the '+' sign from the data points so that the string can be converted to float."
   ]
  },
  {
   "cell_type": "code",
   "execution_count": 145,
   "metadata": {},
   "outputs": [
    {
     "name": "stdout",
     "output_type": "stream",
     "text": [
      "COMMUNICATION  :  38456119.167247385\n",
      "VIDEO_PLAYERS  :  24727872.452830188\n",
      "SOCIAL  :  23253652.127118643\n",
      "PHOTOGRAPHY  :  17840110.40229885\n",
      "PRODUCTIVITY  :  16787331.344927534\n",
      "GAME  :  15588015.603248259\n",
      "TRAVEL_AND_LOCAL  :  13984077.710144928\n",
      "ENTERTAINMENT  :  11640705.88235294\n",
      "TOOLS  :  10801391.298666667\n",
      "NEWS_AND_MAGAZINES  :  9549178.467741935\n",
      "BOOKS_AND_REFERENCE  :  8767811.894736841\n",
      "SHOPPING  :  7036877.311557789\n",
      "PERSONALIZATION  :  5201482.6122448975\n",
      "WEATHER  :  5074486.197183099\n",
      "HEALTH_AND_FITNESS  :  4188821.9853479853\n",
      "MAPS_AND_NAVIGATION  :  4056941.7741935486\n",
      "FAMILY  :  3695641.8198090694\n",
      "SPORTS  :  3638640.1428571427\n",
      "ART_AND_DESIGN  :  1986335.0877192982\n",
      "FOOD_AND_DRINK  :  1924897.7363636363\n",
      "EDUCATION  :  1833495.145631068\n",
      "BUSINESS  :  1712290.1474201474\n",
      "LIFESTYLE  :  1437816.2687861272\n",
      "FINANCE  :  1387692.475609756\n",
      "HOUSE_AND_HOME  :  1331540.5616438356\n",
      "DATING  :  854028.8303030303\n",
      "COMICS  :  817657.2727272727\n",
      "AUTO_AND_VEHICLES  :  647317.8170731707\n",
      "LIBRARIES_AND_DEMO  :  638503.734939759\n",
      "PARENTING  :  542603.6206896552\n",
      "BEAUTY  :  513151.88679245283\n",
      "EVENTS  :  253542.22222222222\n",
      "MEDICAL  :  120550.61980830671\n"
     ]
    }
   ],
   "source": [
    "android_installs_per_category = defaultdict(int)\n",
    "android_apps_per_category = defaultdict(int)\n",
    "for app in android_final:\n",
    "    installs = app[5]\n",
    "    installs = installs.replace(',', '')\n",
    "    installs = installs.replace('+', '')\n",
    "    installs = float(installs)\n",
    "    category = app[1]\n",
    "    android_installs_per_category[category] += installs\n",
    "    android_apps_per_category[category] += 1\n",
    "    \n",
    "avg_android_installs_per_category = {}\n",
    "for category, installs in android_installs_per_category.items():\n",
    "    avg_android_installs_per_category[category] = installs / android_apps_per_category[category]\n",
    "    \n",
    "sorted_avg_android_installs_per_category = sorted(avg_android_installs_per_category.items(), key=lambda t: t[1], reverse=True)\n",
    "for k, v in sorted_avg_android_installs_per_category:\n",
    "    print(k, \" : \", v)\n",
    "    "
   ]
  },
  {
   "cell_type": "markdown",
   "metadata": {},
   "source": [
    "We see that most number of installs are for 'Communication' category. Looking closely inside the category indicates us that the number is heavily influened by few of the apps."
   ]
  },
  {
   "cell_type": "code",
   "execution_count": 147,
   "metadata": {
    "collapsed": true
   },
   "outputs": [
    {
     "name": "stdout",
     "output_type": "stream",
     "text": [
      "WhatsApp Messenger  :  1,000,000,000+\n",
      "imo beta free calls and text  :  100,000,000+\n",
      "Android Messages  :  100,000,000+\n",
      "Google Duo - High Quality Video Calls  :  500,000,000+\n",
      "Messenger – Text and Video Chat for Free  :  1,000,000,000+\n",
      "imo free video calls and chat  :  500,000,000+\n",
      "Skype - free IM & video calls  :  1,000,000,000+\n",
      "Who  :  100,000,000+\n",
      "GO SMS Pro - Messenger, Free Themes, Emoji  :  100,000,000+\n",
      "LINE: Free Calls & Messages  :  500,000,000+\n",
      "Google Chrome: Fast & Secure  :  1,000,000,000+\n",
      "Firefox Browser fast & private  :  100,000,000+\n",
      "UC Browser - Fast Download Private & Secure  :  500,000,000+\n",
      "Gmail  :  1,000,000,000+\n",
      "Hangouts  :  1,000,000,000+\n",
      "Messenger Lite: Free Calls & Messages  :  100,000,000+\n",
      "Kik  :  100,000,000+\n",
      "KakaoTalk: Free Calls & Text  :  100,000,000+\n",
      "Opera Mini - fast web browser  :  100,000,000+\n",
      "Opera Browser: Fast and Secure  :  100,000,000+\n",
      "Telegram  :  100,000,000+\n",
      "Truecaller: Caller ID, SMS spam blocking & Dialer  :  100,000,000+\n",
      "UC Browser Mini -Tiny Fast Private & Secure  :  100,000,000+\n",
      "Viber Messenger  :  500,000,000+\n",
      "WeChat  :  100,000,000+\n",
      "Yahoo Mail – Stay Organized  :  100,000,000+\n",
      "BBM - Free Calls & Messages  :  100,000,000+\n"
     ]
    }
   ],
   "source": [
    "for app in android_final:\n",
    "    if app[1] == \"COMMUNICATION\" and (app[5] == '1,000,000,000+'\n",
    "                                      or app[5] == '500,000,000+'\n",
    "                                      or app[5] == '100,000,000+'):\n",
    "        print(app[0], \" : \", app[5])"
   ]
  },
  {
   "cell_type": "markdown",
   "metadata": {},
   "source": [
    "Let's try and remove those apps that highly influence the average installs."
   ]
  },
  {
   "cell_type": "code",
   "execution_count": 148,
   "metadata": {},
   "outputs": [
    {
     "name": "stdout",
     "output_type": "stream",
     "text": [
      "3603485.3884615386\n"
     ]
    }
   ],
   "source": [
    "under_100_m = []\n",
    "for app in android_final:\n",
    "    installs = app[5]\n",
    "    installs = installs.replace(',', '')\n",
    "    installs = installs.replace('+', '')\n",
    "    installs = float(installs)\n",
    "    if app[1] == \"COMMUNICATION\" and installs < 100000000:\n",
    "        under_100_m.append(installs)\n",
    "print(sum(under_100_m) / len(under_100_m))"
   ]
  },
  {
   "cell_type": "markdown",
   "metadata": {},
   "source": [
    "It can be seen here that the average rating for communication has decreased almost 10 times. The same pattern can be seen in the second positioned genre in terms of number of installs. The market is dominated by some of the giant companies.\n",
    "\n",
    "It wouldn't be a great idea to compete against big giants like Google, Facebook and Microsoft in genres such as Communication, Social network, Music etc. \n",
    "\n",
    "The games genre looks pretty popular but as seen in app store as well, it seems to be saturated in play store also.\n",
    "\n",
    "The books and reference sections seems pretty fair to investigate having an average installs of 8767811. It would be a good idea to explore more of this category as it also showed some potential of success in App Store.\n",
    "\n",
    "Let's look at some of the apps in this genre and their number of installs."
   ]
  },
  {
   "cell_type": "code",
   "execution_count": 150,
   "metadata": {},
   "outputs": [
    {
     "name": "stdout",
     "output_type": "stream",
     "text": [
      "E-Book Read - Read Book for free  :  50,000+\n",
      "Download free book with green book  :  100,000+\n",
      "Wikipedia  :  10,000,000+\n",
      "Cool Reader  :  10,000,000+\n",
      "Free Panda Radio Music  :  100,000+\n",
      "Book store  :  1,000,000+\n",
      "FBReader: Favorite Book Reader  :  10,000,000+\n",
      "English Grammar Complete Handbook  :  500,000+\n",
      "Free Books - Spirit Fanfiction and Stories  :  1,000,000+\n",
      "Google Play Books  :  1,000,000,000+\n",
      "AlReader -any text book reader  :  5,000,000+\n",
      "Offline English Dictionary  :  100,000+\n",
      "Offline: English to Tagalog Dictionary  :  500,000+\n",
      "FamilySearch Tree  :  1,000,000+\n",
      "Cloud of Books  :  1,000,000+\n",
      "Recipes of Prophetic Medicine for free  :  500,000+\n",
      "ReadEra – free ebook reader  :  1,000,000+\n",
      "Anonymous caller detection  :  10,000+\n",
      "Ebook Reader  :  5,000,000+\n",
      "Litnet - E-books  :  100,000+\n",
      "Read books online  :  5,000,000+\n",
      "English to Urdu Dictionary  :  500,000+\n",
      "eBoox: book reader fb2 epub zip  :  1,000,000+\n",
      "English Persian Dictionary  :  500,000+\n",
      "Flybook  :  500,000+\n",
      "All Maths Formulas  :  1,000,000+\n",
      "Ancestry  :  5,000,000+\n",
      "HTC Help  :  10,000,000+\n",
      "English translation from Bengali  :  100,000+\n",
      "Pdf Book Download - Read Pdf Book  :  100,000+\n",
      "Free Book Reader  :  100,000+\n",
      "eBoox new: Reader for fb2 epub zip books  :  50,000+\n",
      "Only 30 days in English, the guideline is guaranteed  :  500,000+\n",
      "Moon+ Reader  :  10,000,000+\n",
      "SH-02J Owner's Manual (Android 8.0)  :  50,000+\n",
      "English-Myanmar Dictionary  :  1,000,000+\n",
      "Golden Dictionary (EN-AR)  :  1,000,000+\n",
      "All Language Translator Free  :  1,000,000+\n",
      "Azpen eReader  :  500,000+\n",
      "URBANO V 02 instruction manual  :  100,000+\n",
      "Bible  :  100,000,000+\n",
      "C Programs and Reference  :  50,000+\n",
      "C Offline Tutorial  :  1,000+\n",
      "C Programs Handbook  :  50,000+\n",
      "Amazon Kindle  :  100,000,000+\n",
      "Aab e Hayat Full Novel  :  100,000+\n",
      "Aldiko Book Reader  :  10,000,000+\n",
      "Google I/O 2018  :  500,000+\n",
      "R Language Reference Guide  :  10,000+\n",
      "Learn R Programming Full  :  5,000+\n",
      "R Programing Offline Tutorial  :  1,000+\n",
      "Guide for R Programming  :  5+\n",
      "Learn R Programming  :  10+\n",
      "R Quick Reference Big Data  :  1,000+\n",
      "V Made  :  100,000+\n",
      "Wattpad 📖 Free Books  :  100,000,000+\n",
      "Dictionary - WordWeb  :  5,000,000+\n",
      "Guide (for X-MEN)  :  100,000+\n",
      "AC Air condition Troubleshoot,Repair,Maintenance  :  5,000+\n",
      "AE Bulletins  :  1,000+\n",
      "Ae Allah na Dai (Rasa)  :  10,000+\n",
      "50000 Free eBooks & Free AudioBooks  :  5,000,000+\n",
      "Ag PhD Field Guide  :  10,000+\n",
      "Ag PhD Deficiencies  :  10,000+\n",
      "Ag PhD Planting Population Calculator  :  1,000+\n",
      "Ag PhD Soybean Diseases  :  1,000+\n",
      "Fertilizer Removal By Crop  :  50,000+\n",
      "A-J Media Vault  :  50+\n",
      "Al-Quran (Free)  :  10,000,000+\n",
      "Al Quran (Tafsir & by Word)  :  500,000+\n",
      "Al Quran Indonesia  :  10,000,000+\n",
      "Al'Quran Bahasa Indonesia  :  10,000,000+\n",
      "Al Quran Al karim  :  1,000,000+\n",
      "Al-Muhaffiz  :  50,000+\n",
      "Al Quran : EAlim - Translations & MP3 Offline  :  5,000,000+\n",
      "Al-Quran 30 Juz free copies  :  500,000+\n",
      "Koran Read &MP3 30 Juz Offline  :  1,000,000+\n",
      "Hafizi Quran 15 lines per page  :  1,000,000+\n",
      "Quran for Android  :  10,000,000+\n",
      "Surah Al-Waqiah  :  100,000+\n",
      "Hisnul Al Muslim - Hisn Invocations & Adhkaar  :  100,000+\n",
      "Satellite AR  :  1,000,000+\n",
      "Audiobooks from Audible  :  100,000,000+\n",
      "Kinot & Eichah for Tisha B'Av  :  10,000+\n",
      "AW Tozer Devotionals - Daily  :  5,000+\n",
      "Tozer Devotional -Series 1  :  1,000+\n",
      "The Pursuit of God  :  1,000+\n",
      "AY Sing  :  5,000+\n",
      "Ay Hasnain k Nana Milad Naat  :  10,000+\n",
      "Ay Mohabbat Teri Khatir Novel  :  10,000+\n",
      "Arizona Statutes, ARS (AZ Law)  :  1,000+\n",
      "Oxford A-Z of English Usage  :  1,000,000+\n",
      "BD Fishpedia  :  1,000+\n",
      "BD All Sim Offer  :  10,000+\n",
      "Youboox - Livres, BD et magazines  :  500,000+\n",
      "B&H Kids AR  :  10,000+\n",
      "B y H Niños ES  :  5,000+\n",
      "Dictionary.com: Find Definitions for English Words  :  10,000,000+\n",
      "English Dictionary - Offline  :  10,000,000+\n",
      "Bible KJV  :  5,000,000+\n",
      "Borneo Bible, BM Bible  :  10,000+\n",
      "MOD Black for BM  :  100+\n",
      "BM Box  :  1,000+\n",
      "Anime Mod for BM  :  100+\n",
      "NOOK: Read eBooks & Magazines  :  10,000,000+\n",
      "NOOK Audiobooks  :  500,000+\n",
      "NOOK App for NOOK Devices  :  500,000+\n",
      "Browsery by Barnes & Noble  :  5,000+\n",
      "bp e-store  :  1,000+\n",
      "Brilliant Quotes: Life, Love, Family & Motivation  :  1,000,000+\n",
      "BR Ambedkar Biography & Quotes  :  10,000+\n",
      "BU Alsace  :  100+\n",
      "Catholic La Bu Zo Kam  :  500+\n",
      "Khrifa Hla Bu (Solfa)  :  10+\n",
      "Kristian Hla Bu  :  10,000+\n",
      "SA HLA BU  :  1,000+\n",
      "Learn SAP BW  :  500+\n",
      "Learn SAP BW on HANA  :  500+\n",
      "CA Laws 2018 (California Laws and Codes)  :  5,000+\n",
      "Bootable Methods(USB-CD-DVD)  :  10,000+\n",
      "cloudLibrary  :  100,000+\n",
      "SDA Collegiate Quarterly  :  500+\n",
      "Sabbath School  :  100,000+\n",
      "Cypress College Library  :  100+\n",
      "Stats Royale for Clash Royale  :  1,000,000+\n",
      "GATE 21 years CS Papers(2011-2018 Solved)  :  50+\n",
      "Learn CT Scan Of Head  :  5,000+\n",
      "Easy Cv maker 2018  :  10,000+\n",
      "How to Write CV  :  100,000+\n",
      "CW Nuclear  :  1,000+\n",
      "CY Spray nozzle  :  10+\n",
      "BibleRead En Cy Zh Yue  :  5+\n",
      "CZ-Help  :  5+\n",
      "Modlitební knížka CZ  :  500+\n",
      "Guide for DB Xenoverse  :  10,000+\n",
      "Guide for DB Xenoverse 2  :  10,000+\n",
      "Guide for IMS DB  :  10+\n",
      "DC HSEMA  :  5,000+\n",
      "DC Public Library  :  1,000+\n",
      "Painting Lulu DC Super Friends  :  1,000+\n",
      "Dictionary  :  10,000,000+\n",
      "Fix Error Google Playstore  :  1,000+\n",
      "D. H. Lawrence Poems FREE  :  1,000+\n",
      "Bilingual Dictionary Audio App  :  5,000+\n",
      "DM Screen  :  10,000+\n",
      "wikiHow: how to do anything  :  1,000,000+\n",
      "Dr. Doug's Tips  :  1,000+\n",
      "Bible du Semeur-BDS (French)  :  50,000+\n",
      "La citadelle du musulman  :  50,000+\n",
      "DV 2019 Entry Guide  :  10,000+\n",
      "DV 2019 - EDV Photo & Form  :  50,000+\n",
      "DV 2018 Winners Guide  :  1,000+\n",
      "EB Annual Meetings  :  1,000+\n",
      "EC - AP & Telangana  :  5,000+\n",
      "TN Patta Citta & EC  :  10,000+\n",
      "AP Stamps and Registration  :  10,000+\n",
      "CompactiMa EC pH Calibration  :  100+\n",
      "EGW Writings 2  :  100,000+\n",
      "EGW Writings  :  1,000,000+\n",
      "Bible with EGW Comments  :  100,000+\n",
      "My Little Pony AR Guide  :  1,000,000+\n",
      "SDA Sabbath School Quarterly  :  500,000+\n",
      "Duaa Ek Ibaadat  :  5,000+\n",
      "Spanish English Translator  :  10,000,000+\n",
      "Dictionary - Merriam-Webster  :  10,000,000+\n",
      "JW Library  :  10,000,000+\n",
      "Oxford Dictionary of English : Free  :  10,000,000+\n",
      "English Hindi Dictionary  :  10,000,000+\n",
      "English to Hindi Dictionary  :  5,000,000+\n",
      "EP Research Service  :  1,000+\n",
      "Hymnes et Louanges  :  100,000+\n",
      "EU Charter  :  1,000+\n",
      "EU Data Protection  :  1,000+\n",
      "EU IP Codes  :  100+\n",
      "EW PDF  :  5+\n",
      "BakaReader EX  :  100,000+\n",
      "EZ Quran  :  50,000+\n",
      "FA Part 1 & 2 Past Papers Solved Free – Offline  :  5,000+\n",
      "La Fe de Jesus  :  1,000+\n",
      "La Fe de Jesús  :  500+\n",
      "Le Fe de Jesus  :  500+\n",
      "Florida - Pocket Brainbook  :  1,000+\n",
      "Florida Statutes (FL Code)  :  1,000+\n",
      "English To Shona Dictionary  :  10,000+\n",
      "Greek Bible FP (Audio)  :  1,000+\n",
      "Golden Dictionary (FR-AR)  :  500,000+\n",
      "Fanfic-FR  :  5,000+\n",
      "Bulgarian French Dictionary Fr  :  10,000+\n",
      "Chemin (fr)  :  1,000+\n",
      "The SCP Foundation DB fr nn5n  :  1,000+\n"
     ]
    }
   ],
   "source": [
    "for app in android_final:\n",
    "    if app[1] == \"BOOKS_AND_REFERENCE\":\n",
    "        print(app[0], \" : \", app[5])"
   ]
  },
  {
   "cell_type": "markdown",
   "metadata": {},
   "source": [
    "We follow the same process in this category as well and try to find out few apps which heavily skew the average."
   ]
  },
  {
   "cell_type": "code",
   "execution_count": 151,
   "metadata": {},
   "outputs": [
    {
     "name": "stdout",
     "output_type": "stream",
     "text": [
      "Google Play Books : 1,000,000,000+\n",
      "Bible : 100,000,000+\n",
      "Amazon Kindle : 100,000,000+\n",
      "Wattpad 📖 Free Books : 100,000,000+\n",
      "Audiobooks from Audible : 100,000,000+\n"
     ]
    }
   ],
   "source": [
    "for app in android_final:\n",
    "    if app[1] == 'BOOKS_AND_REFERENCE' and (app[5] == '1,000,000,000+'\n",
    "                                            or app[5] == '500,000,000+'\n",
    "                                            or app[5] == '100,000,000+'):\n",
    "        print(app[0], ':', app[5])"
   ]
  },
  {
   "cell_type": "markdown",
   "metadata": {},
   "source": [
    "It looks like the number is quite less compared to other categories meaning it still has potential to be looked into. Let's try to get an idea about the apps that have mid-level of installs (between 1 million to 50 million installs)."
   ]
  },
  {
   "cell_type": "code",
   "execution_count": 153,
   "metadata": {},
   "outputs": [
    {
     "name": "stdout",
     "output_type": "stream",
     "text": [
      "Wikipedia : 10,000,000+\n",
      "Cool Reader : 10,000,000+\n",
      "Book store : 1,000,000+\n",
      "FBReader: Favorite Book Reader : 10,000,000+\n",
      "Free Books - Spirit Fanfiction and Stories : 1,000,000+\n",
      "AlReader -any text book reader : 5,000,000+\n",
      "FamilySearch Tree : 1,000,000+\n",
      "Cloud of Books : 1,000,000+\n",
      "ReadEra – free ebook reader : 1,000,000+\n",
      "Ebook Reader : 5,000,000+\n",
      "Read books online : 5,000,000+\n",
      "eBoox: book reader fb2 epub zip : 1,000,000+\n",
      "All Maths Formulas : 1,000,000+\n",
      "Ancestry : 5,000,000+\n",
      "HTC Help : 10,000,000+\n",
      "Moon+ Reader : 10,000,000+\n",
      "English-Myanmar Dictionary : 1,000,000+\n",
      "Golden Dictionary (EN-AR) : 1,000,000+\n",
      "All Language Translator Free : 1,000,000+\n",
      "Aldiko Book Reader : 10,000,000+\n",
      "Dictionary - WordWeb : 5,000,000+\n",
      "50000 Free eBooks & Free AudioBooks : 5,000,000+\n",
      "Al-Quran (Free) : 10,000,000+\n",
      "Al Quran Indonesia : 10,000,000+\n",
      "Al'Quran Bahasa Indonesia : 10,000,000+\n",
      "Al Quran Al karim : 1,000,000+\n",
      "Al Quran : EAlim - Translations & MP3 Offline : 5,000,000+\n",
      "Koran Read &MP3 30 Juz Offline : 1,000,000+\n",
      "Hafizi Quran 15 lines per page : 1,000,000+\n",
      "Quran for Android : 10,000,000+\n",
      "Satellite AR : 1,000,000+\n",
      "Oxford A-Z of English Usage : 1,000,000+\n",
      "Dictionary.com: Find Definitions for English Words : 10,000,000+\n",
      "English Dictionary - Offline : 10,000,000+\n",
      "Bible KJV : 5,000,000+\n",
      "NOOK: Read eBooks & Magazines : 10,000,000+\n",
      "Brilliant Quotes: Life, Love, Family & Motivation : 1,000,000+\n",
      "Stats Royale for Clash Royale : 1,000,000+\n",
      "Dictionary : 10,000,000+\n",
      "wikiHow: how to do anything : 1,000,000+\n",
      "EGW Writings : 1,000,000+\n",
      "My Little Pony AR Guide : 1,000,000+\n",
      "Spanish English Translator : 10,000,000+\n",
      "Dictionary - Merriam-Webster : 10,000,000+\n",
      "JW Library : 10,000,000+\n",
      "Oxford Dictionary of English : Free : 10,000,000+\n",
      "English Hindi Dictionary : 10,000,000+\n",
      "English to Hindi Dictionary : 5,000,000+\n"
     ]
    }
   ],
   "source": [
    "for app in android_final:\n",
    "    if app[1] == 'BOOKS_AND_REFERENCE' and (app[5] == '1,000,000+'\n",
    "                                            or app[5] == '5,000,000+'\n",
    "                                            or app[5] == '10,000,000+'\n",
    "                                            or app[5] == '50,000,000+'):\n",
    "        print(app[0], ':', app[5])"
   ]
  },
  {
   "cell_type": "markdown",
   "metadata": {},
   "source": [
    "This category surely seems promising as it can be seen that some popular books like Quran surely has good number of installs. Taking into account the most popular books maybe also in recent year and converting them into ebooks could be a great idea.\n",
    "\n",
    "However, this market is dominated by just ebooks so putting some extra efforts in creativity and making it more engaging may seem to work well."
   ]
  },
  {
   "cell_type": "markdown",
   "metadata": {},
   "source": [
    "### Conclusion\n",
    "In this project we analyzed App Store and Google Play Store apps with the intention of recommending an app for both the stores that can be a profitable business.\n",
    "\n",
    "We found that taking a book or reference and converting them into an ebook with some additional creative features have the potential to win the users. The special features could mean daily quotes from the book, audio version, in build dictionary, quizzes etc."
   ]
  },
  {
   "cell_type": "markdown",
   "metadata": {},
   "source": [
    "### Technical Summary:\n",
    "We analyzed the data thoroughly and found that both the dataset need some cleaning.\n",
    "Our data cleaning steps included -\n",
    "* Removing corrupt data row\n",
    "* Removing duplicate rows logically\n",
    "* Removing non english oriented apps\n",
    "\n",
    "After that we stepped into each dataset and listed the top genres based on highest number of apps.\n",
    "We also listed out the average installs/ratings per each genre.\n",
    "After getting the idea about the genres/categories with most ratings/installs, we tried _ignoring those categories which have imbalanced dataset_ (in a way that only few apps had biggest role in increaing the average).\n",
    "We analyzed those categories carefully which fall in between considering the top genre apps as well as number of installs per genre. (intersection between top genres and average installs per genre)\n"
   ]
  },
  {
   "cell_type": "code",
   "execution_count": null,
   "metadata": {},
   "outputs": [],
   "source": []
  }
 ],
 "metadata": {
  "kernelspec": {
   "display_name": "Python 3",
   "language": "python",
   "name": "python3"
  },
  "language_info": {
   "codemirror_mode": {
    "name": "ipython",
    "version": 3
   },
   "file_extension": ".py",
   "mimetype": "text/x-python",
   "name": "python",
   "nbconvert_exporter": "python",
   "pygments_lexer": "ipython3",
   "version": "3.6.5"
  }
 },
 "nbformat": 4,
 "nbformat_minor": 2
}

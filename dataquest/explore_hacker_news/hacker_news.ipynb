{
 "cells": [
  {
   "cell_type": "markdown",
   "metadata": {},
   "source": [
    "# Exploring Hacker News Post\n",
    "\n",
    "This project is about exploring the data set of submissions on hacker news.\n",
    "\n",
    "[Hacker News](https://news.ycombinator.com/) is a website started by a startup incubator [YCombinator](https://www.ycombinator.com/). The users add stories (known as \"posts\") which are voted (upvotes and downvotes) and commented upon. Hacker News is extremely famous among startups and the top posts get viewed by thousands of people.\n",
    "\n",
    "The data set is available [here](https://www.kaggle.com/hacker-news/hacker-news-posts). It includes the following columns:\n",
    "\n",
    "- `title:` title of the post (self explanatory)\n",
    "\n",
    "- `url:` the url of the item being linked to, if it has any\n",
    "\n",
    "- `num_points:` the number of points the post received (calculate by upvotes - downvotes)\n",
    "\n",
    "- `num_comments:` the number of comments the post received\n",
    "\n",
    "- `author:` the name of the account that made the post\n",
    "\n",
    "- `created_at:` the date and time the post was made (the time zone is Eastern Time in the US)\n",
    "\n",
    "Note: The data has been slightly cleaned to remove posts with no comments.\n",
    "\n",
    "In this data set we are particularly interested in two types of posts.\n",
    "1. These are the posts whose title begin with __`Ask HN`__. \n",
    "Users use this tag at the beginning of the title to ask the Hacker News community a specific question. Below are some examples:\n",
    "\n",
    "```\n",
    "Ask HN: How to improve my personal website?\n",
    "Ask HN: Am I the only one outraged by Twitter shutting down share counts?\n",
    "Ask HN: Aby recent changes to CSS that broke mobile?\n",
    "```\n",
    "\n",
    "2. These are the posts whose title begin with __`Show HN`__. Users use this tag to show their project demo, product or something interesting. Below are some examples:\n",
    "\n",
    "```\n",
    "Show HN: Wio Link  ESP8266 Based Web of Things Hardware Development Platform'\n",
    "Show HN: Something pointless I made\n",
    "Show HN: Shanhu.io, a programming playground powered by e8vm\n",
    "```\n",
    "\n",
    "#### Goal of the project\n",
    "1. Do __`Ask HN`__ or __`Show HN`__ receive more comments on average?\n",
    "2. Do posts created at certain time receive more comments on average?"
   ]
  },
  {
   "cell_type": "code",
   "execution_count": 1,
   "metadata": {},
   "outputs": [
    {
     "name": "stdout",
     "output_type": "stream",
     "text": [
      "[['id', 'title', 'url', 'num_points', 'num_comments', 'author', 'created_at'], ['12224879', 'Interactive Dynamic Video', 'http://www.interactivedynamicvideo.com/', '386', '52', 'ne0phyte', '8/4/2016 11:52'], ['10975351', 'How to Use Open Source and Shut the Fuck Up at the Same Time', 'http://hueniverse.com/2016/01/26/how-to-use-open-source-and-shut-the-fuck-up-at-the-same-time/', '39', '10', 'josep2', '1/26/2016 19:30'], ['11964716', \"Florida DJs May Face Felony for April Fools' Water Joke\", 'http://www.thewire.com/entertainment/2013/04/florida-djs-april-fools-water-joke/63798/', '2', '1', 'vezycash', '6/23/2016 22:20'], ['11919867', 'Technology ventures: From Idea to Enterprise', 'https://www.amazon.com/Technology-Ventures-Enterprise-Thomas-Byers/dp/0073523429', '3', '1', 'hswarna', '6/17/2016 0:01']]\n"
     ]
    }
   ],
   "source": [
    "from csv import reader\n",
    "\n",
    "f = open(\"hacker_news.csv\", \"r\")\n",
    "hn = list(reader(f))\n",
    "print(hn[:5])"
   ]
  },
  {
   "cell_type": "markdown",
   "metadata": {},
   "source": [
    "### Separate Header from the list"
   ]
  },
  {
   "cell_type": "code",
   "execution_count": 2,
   "metadata": {},
   "outputs": [
    {
     "name": "stdout",
     "output_type": "stream",
     "text": [
      "['id', 'title', 'url', 'num_points', 'num_comments', 'author', 'created_at']\n",
      "[['12224879', 'Interactive Dynamic Video', 'http://www.interactivedynamicvideo.com/', '386', '52', 'ne0phyte', '8/4/2016 11:52'], ['10975351', 'How to Use Open Source and Shut the Fuck Up at the Same Time', 'http://hueniverse.com/2016/01/26/how-to-use-open-source-and-shut-the-fuck-up-at-the-same-time/', '39', '10', 'josep2', '1/26/2016 19:30'], ['11964716', \"Florida DJs May Face Felony for April Fools' Water Joke\", 'http://www.thewire.com/entertainment/2013/04/florida-djs-april-fools-water-joke/63798/', '2', '1', 'vezycash', '6/23/2016 22:20'], ['11919867', 'Technology ventures: From Idea to Enterprise', 'https://www.amazon.com/Technology-Ventures-Enterprise-Thomas-Byers/dp/0073523429', '3', '1', 'hswarna', '6/17/2016 0:01'], ['10301696', 'Note by Note: The Making of Steinway L1037 (2007)', 'http://www.nytimes.com/2007/11/07/movies/07stein.html?_r=0', '8', '2', 'walterbell', '9/30/2015 4:12']]\n"
     ]
    }
   ],
   "source": [
    "headers = hn[0]\n",
    "hn = hn[1:]\n",
    "print(headers)\n",
    "print(hn[:5])"
   ]
  },
  {
   "cell_type": "markdown",
   "metadata": {},
   "source": [
    "### Extracting  `ask posts` and `show posts` from the data set."
   ]
  },
  {
   "cell_type": "code",
   "execution_count": 3,
   "metadata": {},
   "outputs": [
    {
     "name": "stdout",
     "output_type": "stream",
     "text": [
      "Number of 'asks':  1744\n",
      "Number of 'shows':  1162\n",
      "Number of 'others':  17194\n"
     ]
    }
   ],
   "source": [
    "ask_posts = []\n",
    "show_posts = []\n",
    "other_posts = []\n",
    "for row in hn:\n",
    "    title = row[1]\n",
    "    if title.lower().startswith(\"ask hn\"):\n",
    "        ask_posts.append(row)\n",
    "    elif title.lower().startswith(\"show hn\"):\n",
    "        show_posts.append(row)\n",
    "    else:\n",
    "        other_posts.append(row)\n",
    "\n",
    "print(\"Number of 'asks': \", len(ask_posts))\n",
    "print(\"Number of 'shows': \", len(show_posts))\n",
    "print(\"Number of 'others': \", len(other_posts))"
   ]
  },
  {
   "cell_type": "markdown",
   "metadata": {},
   "source": [
    "### Evaluating _`average comments`_ for `Ask HN` and `Show HN` posts"
   ]
  },
  {
   "cell_type": "code",
   "execution_count": 4,
   "metadata": {},
   "outputs": [
    {
     "name": "stdout",
     "output_type": "stream",
     "text": [
      "Average 'Ask HN' comments:  14.04\n",
      "Average 'Show HN' comments:  10.32\n"
     ]
    }
   ],
   "source": [
    "total_ask_comments = 0\n",
    "for row in ask_posts:\n",
    "    num_comments = int(row[4])\n",
    "    total_ask_comments += num_comments\n",
    "avg_ask_comments = total_ask_comments / len(ask_posts)\n",
    "print(\"Average 'Ask HN' comments: \", round(avg_ask_comments, 2))\n",
    "\n",
    "total_show_comments = 0\n",
    "for row in show_posts:\n",
    "    num_comments = int(row[4])\n",
    "    total_show_comments += num_comments\n",
    "avg_show_comments = total_show_comments / len(show_posts)\n",
    "print(\"Average 'Show HN' comments: \", round(avg_show_comments, 2))"
   ]
  },
  {
   "cell_type": "markdown",
   "metadata": {},
   "source": [
    "On an average '__ask__' posts get 14 comments while '__show__' posts get 10 comments. As `ask` posts get more number of comments than `show` posts, we will focus on `ask` posts for the next goal."
   ]
  },
  {
   "cell_type": "markdown",
   "metadata": {},
   "source": [
    "Next, we will find out if the 'ask' posts created at a certain time attract more comments.\n",
    "\n",
    "We'll use the following steps to achieve this analysis:\n",
    "\n",
    "    1. Calculate the number of ask posts created in each hour, along with the number of comments received.\n",
    "    2. Calculate the average number of comments received for the created hour"
   ]
  },
  {
   "cell_type": "markdown",
   "metadata": {},
   "source": [
    "### Part 1: Finding the number of posts created and number of comments received by `hour created`"
   ]
  },
  {
   "cell_type": "code",
   "execution_count": 5,
   "metadata": {},
   "outputs": [
    {
     "name": "stdout",
     "output_type": "stream",
     "text": [
      "Counter({15: 116, 19: 110, 21: 109, 18: 109, 16: 108, 14: 107, 17: 100, 13: 85, 20: 80, 12: 73, 22: 71, 23: 68, 1: 60, 10: 59, 2: 58, 11: 58, 0: 55, 3: 54, 8: 48, 4: 47, 5: 46, 9: 45, 6: 44, 7: 34})\n",
      "\n",
      "\n",
      "Counter({15: 4477, 16: 1814, 21: 1745, 20: 1722, 18: 1439, 14: 1416, 2: 1381, 13: 1253, 19: 1188, 17: 1146, 10: 793, 12: 687, 1: 683, 11: 641, 23: 543, 8: 492, 22: 479, 5: 464, 0: 447, 3: 421, 6: 397, 4: 337, 7: 267, 9: 251})\n"
     ]
    }
   ],
   "source": [
    "import datetime as dt\n",
    "from collections import Counter\n",
    "\n",
    "def get_hour_from_date(datestring):\n",
    "    result = dt.datetime.strptime(datestring, \"%m/%d/%Y %H:%M\")\n",
    "    return result.hour\n",
    "\n",
    "counts_by_hour = Counter()\n",
    "comments_by_hour = Counter()\n",
    "\n",
    "for row in ask_posts:\n",
    "    created_at = row[6]\n",
    "    hour = get_hour_from_date(created_at)\n",
    "    num_comments = int(row[4])\n",
    "    counts_by_hour[hour] += 1\n",
    "    comments_by_hour[hour] += num_comments\n",
    "    \n",
    "print(counts_by_hour)\n",
    "print(\"\\n\")\n",
    "print(comments_by_hour)\n"
   ]
  },
  {
   "cell_type": "markdown",
   "metadata": {},
   "source": [
    "### Part 2: Find the average number of comments for posts by `hour created`"
   ]
  },
  {
   "cell_type": "code",
   "execution_count": 6,
   "metadata": {},
   "outputs": [
    {
     "name": "stdout",
     "output_type": "stream",
     "text": [
      "Counter({15: 38.59, 2: 23.81, 20: 21.52, 16: 16.8, 21: 16.01, 13: 14.74, 10: 13.44, 14: 13.23, 18: 13.2, 17: 11.46, 1: 11.38, 11: 11.05, 19: 10.8, 8: 10.25, 5: 10.09, 12: 9.41, 6: 9.02, 0: 8.13, 23: 7.99, 7: 7.85, 3: 7.8, 4: 7.17, 22: 6.75, 9: 5.58})\n"
     ]
    }
   ],
   "source": [
    "avg_by_hour = Counter()\n",
    "for hour, count in counts_by_hour.items():\n",
    "    num_comments = comments_by_hour[hour]\n",
    "    avg_by_hour[hour] = round(num_comments / count, 2)\n",
    "    \n",
    "print(avg_by_hour)"
   ]
  },
  {
   "cell_type": "markdown",
   "metadata": {},
   "source": [
    "To get the top 5 most common hours where the average number of comments is higher."
   ]
  },
  {
   "cell_type": "code",
   "execution_count": 7,
   "metadata": {},
   "outputs": [
    {
     "name": "stdout",
     "output_type": "stream",
     "text": [
      "[(15, 38.59), (2, 23.81), (20, 21.52), (16, 16.8), (21, 16.01)]\n"
     ]
    }
   ],
   "source": [
    "print(avg_by_hour.most_common(5))"
   ]
  },
  {
   "cell_type": "markdown",
   "metadata": {},
   "source": [
    "Let us print the 5 most common hours with highest average comments in a proper readable format."
   ]
  },
  {
   "cell_type": "code",
   "execution_count": 9,
   "metadata": {},
   "outputs": [
    {
     "name": "stdout",
     "output_type": "stream",
     "text": [
      "Top 5 hours where the average comments for new post are higher.\n",
      "15:00: 38.59 average comments per post.\n",
      "02:00: 23.81 average comments per post.\n",
      "20:00: 21.52 average comments per post.\n",
      "16:00: 16.8 average comments per post.\n",
      "21:00: 16.01 average comments per post.\n"
     ]
    }
   ],
   "source": [
    "print(\"Top 5 hours where the average comments for new post are higher.\")\n",
    "for item in avg_by_hour.most_common(5):\n",
    "    hour, num_comments = item\n",
    "    hour = dt.datetime.strptime(str(hour), \"%H\")\n",
    "    hour_str = hour.strftime(\"%H:%M\")\n",
    "    output = \"{}: {} average comments per post.\".format(hour_str, num_comments)\n",
    "    print(output)"
   ]
  },
  {
   "cell_type": "markdown",
   "metadata": {},
   "source": [
    "__The above analysis shows us that posting a question on Hacker News between 15:00 and 15:00 (Eastern Time in US) gives us the most number of comments.__ That's about 60% increase in the number of comments between the highest and the second highest hours of post creation.\n",
    "\n",
    "# Conclusion\n",
    "\n",
    "In this project, we analyzed Ask HN and Show HN posts to check which one of the category receives more comments. We also analysed the average number of comments for Ask HN by hour created. The result of the analysis shows that Ask HN receives more comments than Show HN. We can also conclude that on an average the Ask HN created between 15:00 and 16:00 EST receives more comments than the posts created at other hours.\n",
    "\n",
    "### Future Work:\n",
    "\n",
    "> We can convert this time which is in US Eastern Time into our local time zone."
   ]
  }
 ],
 "metadata": {
  "kernelspec": {
   "display_name": "Python 3",
   "language": "python",
   "name": "python3"
  },
  "language_info": {
   "codemirror_mode": {
    "name": "ipython",
    "version": 3
   },
   "file_extension": ".py",
   "mimetype": "text/x-python",
   "name": "python",
   "nbconvert_exporter": "python",
   "pygments_lexer": "ipython3",
   "version": "3.6.5"
  }
 },
 "nbformat": 4,
 "nbformat_minor": 2
}

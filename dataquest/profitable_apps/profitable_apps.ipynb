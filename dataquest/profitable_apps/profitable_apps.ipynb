{
 "cells": [
  {
   "cell_type": "markdown",
   "metadata": {},
   "source": [
    "### Analysing Profitable Apps in Google and Apple Store\n",
    "\n",
    "Google and Apple app stores have millions of apps. Out of those millions of apps some are very famous and profitable while others are not. This project is about finding what makes an app profitable or which category of apps are more famous and profitable than others.\n",
    "\n",
    "The goal of this project is to get an understanding of what key points make an app successful. The project should give us an insight on which category apps are more famous so that the developers can get an idea of how to attract the users for their next app."
   ]
  },
  {
   "cell_type": "code",
   "execution_count": 1,
   "metadata": {},
   "outputs": [],
   "source": [
    "def explore_data(dataset, start, end, rows_and_columns=False):\n",
    "    \"\"\"utility function to print dataset\"\"\"\n",
    "    dataset_slice = dataset[start:end]\n",
    "    for row in dataset_slice:\n",
    "        print(row)\n",
    "        print('\\n')\n",
    "    if rows_and_columns:\n",
    "        print(\"Number of rows:    \", len(dataset))\n",
    "        print(\"Number of columns: \", len(dataset[0]))"
   ]
  },
  {
   "cell_type": "code",
   "execution_count": 2,
   "metadata": {},
   "outputs": [
    {
     "name": "stdout",
     "output_type": "stream",
     "text": [
      "Exploring Apple Dataset: \n",
      "\n",
      "['389801252', 'Instagram', '113954816', 'USD', '0.0', '2161558', '1289', '4.5', '4.0', '10.23', '12+', 'Photo & Video', '37', '0', '29', '1']\n",
      "\n",
      "\n",
      "['529479190', 'Clash of Clans', '116476928', 'USD', '0.0', '2130805', '579', '4.5', '4.5', '9.24.12', '9+', 'Games', '38', '5', '18', '1']\n",
      "\n",
      "\n",
      "Number of rows:     7197\n",
      "Number of columns:  16\n"
     ]
    }
   ],
   "source": [
    "# create list of lists for both apple and google dataset\n",
    "from csv import reader\n",
    "with open(\"AppleStore.csv\", \"r\") as fp:\n",
    "    apple = reader(fp)\n",
    "    apple_data = list(apple)\n",
    "with open(\"googleplaystore.csv\", \"r\") as fp:\n",
    "    google = reader(fp)\n",
    "    google_data = list(google)\n",
    "    \n",
    "android_header = google_data[0]\n",
    "google_data = google_data[1:]\n",
    "ios_header = apple_data[0]\n",
    "apple_data = apple_data[1:]\n",
    "print(\"Exploring Apple Dataset: \\n\")\n",
    "explore_data(apple_data, 1, 3, True)"
   ]
  },
  {
   "cell_type": "code",
   "execution_count": 3,
   "metadata": {},
   "outputs": [
    {
     "name": "stdout",
     "output_type": "stream",
     "text": [
      "Apple columns\n",
      "['284882215', 'Facebook', '389879808', 'USD', '0.0', '2974676', '212', '3.5', '3.5', '95.0', '4+', 'Social Networking', '37', '1', '29', '1']\n",
      "\n",
      "\n",
      "Google columns\n",
      "['Photo Editor & Candy Camera & Grid & ScrapBook', 'ART_AND_DESIGN', '4.1', '159', '19M', '10,000+', 'Free', '0', 'Everyone', 'Art & Design', 'January 7, 2018', '1.0.0', '4.0.3 and up']\n"
     ]
    }
   ],
   "source": [
    "print(\"Apple columns\")\n",
    "print(apple_data[0])\n",
    "print(\"\\n\")\n",
    "print(\"Google columns\")\n",
    "print(google_data[0])"
   ]
  },
  {
   "cell_type": "markdown",
   "metadata": {},
   "source": [
    "#### More Info on Datasets\n",
    "\n",
    "To get detailed information about the Google Play Store dataset, go to [Google dataset](https://www.kaggle.com/lava18/google-play-store-apps)\n",
    "\n",
    "Similarly, more info about Apple App Store dataset can be found at [Apple dataset](https://www.kaggle.com/ramamet4/app-store-apple-data-set-10k-apps)"
   ]
  },
  {
   "cell_type": "markdown",
   "metadata": {},
   "source": [
    "### Data Cleaning\n",
    "\n",
    "The process of preparing our data for analysis is calle __data cleaning__.\n",
    "It includes -\n",
    "* _deleting or correcting_ wrong data\n",
    "* _deleting_ duplicate data\n",
    "* _modifing_ data to fit our needs\n",
    "\n",
    "`It is said that Data Scientist spend 80% of their time cleaning the data and 20% of their time in analysing it.`"
   ]
  },
  {
   "cell_type": "markdown",
   "metadata": {},
   "source": [
    "### Deleting wrong data\n",
    "The google dataset has a dedicated [discussion section](https://www.kaggle.com/lava18/google-play-store-apps/discussion) and we can check that [one of the discussions](https://www.kaggle.com/lava18/google-play-store-apps/discussion/66015) suggest us about the wrong data row. We'll try to find out if it is actually wrong."
   ]
  },
  {
   "cell_type": "code",
   "execution_count": 4,
   "metadata": {},
   "outputs": [
    {
     "name": "stdout",
     "output_type": "stream",
     "text": [
      "['Xposed Wi-Fi-Pwd', 'PERSONALIZATION', '3.5', '1042', '404k', '100,000+', 'Free', '0', 'Everyone', 'Personalization', 'August 5, 2014', '3.0.0', '4.0.3 and up']\n",
      "\n",
      "\n",
      "['App', 'Category', 'Rating', 'Reviews', 'Size', 'Installs', 'Type', 'Price', 'Content Rating', 'Genres', 'Last Updated', 'Current Ver', 'Android Ver']\n",
      "\n",
      "\n",
      "['Life Made WI-Fi Touchscreen Photo Frame', '1.9', '19', '3.0M', '1,000+', 'Free', '0', 'Everyone', '', 'February 11, 2018', '1.0.19', '4.0 and up']\n"
     ]
    }
   ],
   "source": [
    "print(google_data[10471])  # correct row\n",
    "print('\\n')\n",
    "print(android_header)  # header row\n",
    "print('\\n')\n",
    "print(google_data[10472])  # incorrect row"
   ]
  },
  {
   "cell_type": "code",
   "execution_count": 5,
   "metadata": {},
   "outputs": [
    {
     "name": "stdout",
     "output_type": "stream",
     "text": [
      "10841\n",
      "10840\n"
     ]
    }
   ],
   "source": [
    "# Looking at the kaggle discussion of the google dataset, we can see that the row at 10473 is missing some data points.\n",
    "print(len(google_data))\n",
    "del google_data[10472]\n",
    "print(len(google_data))"
   ]
  },
  {
   "cell_type": "markdown",
   "metadata": {},
   "source": [
    "### Removing duplicate entries\n",
    "__PART 1__\n",
    "\n",
    "By closing looking at the dataset, we can see that there are many duplicate entries. For instance, the app \"Instagram\" has four entries."
   ]
  },
  {
   "cell_type": "code",
   "execution_count": 6,
   "metadata": {},
   "outputs": [
    {
     "name": "stdout",
     "output_type": "stream",
     "text": [
      "['Instagram', 'SOCIAL', '4.5', '66577313', 'Varies with device', '1,000,000,000+', 'Free', '0', 'Teen', 'Social', 'July 31, 2018', 'Varies with device', 'Varies with device']\n",
      "['Instagram', 'SOCIAL', '4.5', '66577446', 'Varies with device', '1,000,000,000+', 'Free', '0', 'Teen', 'Social', 'July 31, 2018', 'Varies with device', 'Varies with device']\n",
      "['Instagram', 'SOCIAL', '4.5', '66577313', 'Varies with device', '1,000,000,000+', 'Free', '0', 'Teen', 'Social', 'July 31, 2018', 'Varies with device', 'Varies with device']\n",
      "['Instagram', 'SOCIAL', '4.5', '66509917', 'Varies with device', '1,000,000,000+', 'Free', '0', 'Teen', 'Social', 'July 31, 2018', 'Varies with device', 'Varies with device']\n"
     ]
    }
   ],
   "source": [
    "for app in google_data:\n",
    "    name = app[0]\n",
    "    if name == \"Instagram\":\n",
    "        print(app)"
   ]
  },
  {
   "cell_type": "code",
   "execution_count": 7,
   "metadata": {},
   "outputs": [
    {
     "name": "stdout",
     "output_type": "stream",
     "text": [
      "Length of duplicate apps: 1181\n",
      "Length of unique apps: 9659\n",
      "\n",
      "\n",
      "Few examples of duplicate apps -\n",
      "['Quick PDF Scanner + OCR FREE', 'Box', 'Google My Business', 'ZOOM Cloud Meetings', 'join.me - Simple Meetings', 'Box', 'Zenefits', 'Google Ads', 'Google My Business', 'Slack', 'FreshBooks Classic', 'Insightly CRM', 'QuickBooks Accounting: Invoicing & Expenses', 'HipChat - Chat Built for Teams', 'Xero Accounting Software']\n"
     ]
    }
   ],
   "source": [
    "duplicate_apps = []\n",
    "unique_apps = []\n",
    "for app in google_data:\n",
    "    app_name = app[0]\n",
    "    if app_name in unique_apps:\n",
    "        duplicate_apps.append(app_name)\n",
    "    else:\n",
    "        unique_apps.append(app_name)\n",
    "        \n",
    "print(f\"Length of duplicate apps: {len(duplicate_apps)}\")\n",
    "print(f\"Length of unique apps: {len(unique_apps)}\")  # -1 for header\n",
    "print(\"\\n\")\n",
    "print(\"Few examples of duplicate apps -\")\n",
    "print(duplicate_apps[:15])"
   ]
  },
  {
   "cell_type": "markdown",
   "metadata": {},
   "source": [
    "We can see that there are total of duplicate 1181 apps."
   ]
  },
  {
   "cell_type": "markdown",
   "metadata": {},
   "source": [
    "If we look at the instagram duplicates we can find that the review column of it is not unique. The different values show that the data was collected at different times. We can use this criterion for keeping rows. We will not randomly delete the duplicate rows but keep only that row which has more reviews as they make more reliabile ratings."
   ]
  },
  {
   "cell_type": "markdown",
   "metadata": {},
   "source": [
    "__PART 2__\n",
    "\n",
    "We will start by creating a dictionary that contains key as the app name and its highest review (among all its duplicate rows) as its value."
   ]
  },
  {
   "cell_type": "code",
   "execution_count": 8,
   "metadata": {},
   "outputs": [],
   "source": [
    "from collections import defaultdict\n",
    "reviews_max = defaultdict(int)\n",
    "\n",
    "for app in google_data:\n",
    "    app_name = app[0]\n",
    "    reviews = float(app[3])\n",
    "    old_review = reviews_max[app_name]\n",
    "    if old_review < reviews:\n",
    "        reviews_max[app_name] = reviews"
   ]
  },
  {
   "cell_type": "code",
   "execution_count": 9,
   "metadata": {},
   "outputs": [
    {
     "name": "stdout",
     "output_type": "stream",
     "text": [
      "True\n"
     ]
    }
   ],
   "source": [
    "print(len(unique_apps) == len(reviews_max))  # confirming actual vs expected length"
   ]
  },
  {
   "cell_type": "markdown",
   "metadata": {},
   "source": [
    "Using the dictionary we created, we will iterate over the entire dataset and select only those rows that match with dictionary (as the dictionary contains only those values with highest ratings). We will create a new dataset with the cleaned data.\n",
    "\n",
    "We will also create an additional data structure for keeping just the app names that have been added to the cleaned dataset. The reason for this is to ignore those entries which are duplicate and have the same number of ratings. If we just use `reviews==max_review` then there will still be some cases where the duplicate entries have same number of ratings."
   ]
  },
  {
   "cell_type": "code",
   "execution_count": 14,
   "metadata": {},
   "outputs": [
    {
     "name": "stdout",
     "output_type": "stream",
     "text": [
      "9659\n",
      "True\n"
     ]
    }
   ],
   "source": [
    "cleaned_android = []\n",
    "already_added = []\n",
    "for app in google_data:\n",
    "    app_name = app[0]\n",
    "    reviews = float(app[3])\n",
    "    max_review = reviews_max[app_name]\n",
    "    if max_review == reviews and app_name not in already_added:\n",
    "        cleaned_android.append(app)\n",
    "        already_added.append(app_name)\n",
    "\n",
    "print(len(cleaned_android) == len(reviews_max) == len(unique_apps))"
   ]
  },
  {
   "cell_type": "code",
   "execution_count": 16,
   "metadata": {},
   "outputs": [
    {
     "name": "stdout",
     "output_type": "stream",
     "text": [
      "['Photo Editor & Candy Camera & Grid & ScrapBook', 'ART_AND_DESIGN', '4.1', '159', '19M', '10,000+', 'Free', '0', 'Everyone', 'Art & Design', 'January 7, 2018', '1.0.0', '4.0.3 and up']\n",
      "\n",
      "\n",
      "['U Launcher Lite – FREE Live Cool Themes, Hide Apps', 'ART_AND_DESIGN', '4.7', '87510', '8.7M', '5,000,000+', 'Free', '0', 'Everyone', 'Art & Design', 'August 1, 2018', '1.2.4', '4.0.3 and up']\n",
      "\n",
      "\n",
      "['Sketch - Draw & Paint', 'ART_AND_DESIGN', '4.5', '215644', '25M', '50,000,000+', 'Free', '0', 'Teen', 'Art & Design', 'June 8, 2018', 'Varies with device', '4.2 and up']\n",
      "\n",
      "\n",
      "Number of rows:     9659\n",
      "Number of columns:  13\n"
     ]
    }
   ],
   "source": [
    "explore_data(cleaned_android, 0, 3, True)"
   ]
  },
  {
   "cell_type": "markdown",
   "metadata": {},
   "source": [
    "### Removing non-english apps\n",
    "#### Part 1\n",
    "If we explore the dataset enough, we would find that are certain apps that are not directed towards English speaking audience. Below we see a couple of examples from both dataset -"
   ]
  },
  {
   "cell_type": "code",
   "execution_count": 44,
   "metadata": {},
   "outputs": [
    {
     "name": "stdout",
     "output_type": "stream",
     "text": [
      "爱奇艺PPS -《欢乐颂2》电视剧热播\n",
      "【脱出ゲーム】絶対に最後までプレイしないで 〜謎解き＆ブロックパズル〜\n",
      "中国語 AQリスニング\n",
      "لعبة تقدر تربح DZ\n"
     ]
    }
   ],
   "source": [
    "print(apple_data[813][1])\n",
    "print(apple_data[6731][1])\n",
    "\n",
    "print(cleaned_android[4412][0])\n",
    "print(cleaned_android[7940][0])"
   ]
  },
  {
   "cell_type": "markdown",
   "metadata": {},
   "source": [
    "We will write a function that takes a string and checks if the string is ASCII charater or not. ASCII chart suggests that the english characters fall under ASCII numbers between 0 and 127. To convert a character into ASCII number, we'll use in-built function `ord()`. Thus, our function would check if the string character falls under 127 or not and return boolean correspondingly."
   ]
  },
  {
   "cell_type": "code",
   "execution_count": 19,
   "metadata": {},
   "outputs": [],
   "source": [
    "def is_english(word):\n",
    "    for c in word:\n",
    "        if ord(c) > 127:\n",
    "            return False\n",
    "    return True"
   ]
  },
  {
   "cell_type": "code",
   "execution_count": 20,
   "metadata": {},
   "outputs": [
    {
     "name": "stdout",
     "output_type": "stream",
     "text": [
      "True\n",
      "False\n",
      "False\n",
      "False\n"
     ]
    }
   ],
   "source": [
    "test_non_english = [\"Instagram\", \"爱奇艺PPS -《欢乐颂2》电视剧热播\", \"Docs To Go™ Free Office Suite\", \"Instachat 😜\"]\n",
    "for sample in test_non_english:\n",
    "    print(is_english(sample))"
   ]
  },
  {
   "cell_type": "markdown",
   "metadata": {},
   "source": [
    "There can be some cases where the app is intended for english speaking audience but has emoji or characters like `™`.\n",
    "We may loose many data if we filter out harshly. To counter that, we will accept at most 3 non-ascii characters in the app name and accept it as english app if it satisfied the boundary set. Although it is not a perfect solution but it should include those apps with 3 emojis or less and other use cases.\n",
    "\n",
    "To achieve that we will use a flag to count the number of non-ascii characters in a word."
   ]
  },
  {
   "cell_type": "markdown",
   "metadata": {},
   "source": [
    "#### Part 2\n",
    "\n",
    "To minimize the data loss, let's override the basic `is_english` function."
   ]
  },
  {
   "cell_type": "code",
   "execution_count": 39,
   "metadata": {},
   "outputs": [],
   "source": [
    "def is_english(word):\n",
    "    non_ascii = 0\n",
    "    for c in word:\n",
    "        if ord(c) > 127:\n",
    "            if non_ascii >= 3:\n",
    "                return False\n",
    "            else:\n",
    "                non_ascii += 1\n",
    "    return True"
   ]
  },
  {
   "cell_type": "code",
   "execution_count": 40,
   "metadata": {},
   "outputs": [
    {
     "name": "stdout",
     "output_type": "stream",
     "text": [
      "True\n",
      "False\n",
      "False\n",
      "True\n",
      "True\n"
     ]
    }
   ],
   "source": [
    "test_non_english = [\"Instagram 😜😜😜\", \"Instagram 😜😜😜😜\", \"爱奇艺PPS -《欢乐颂2》电视剧热播\", \"Docs To Go™ Free Office Suite\", \"Instachat 😜\"]\n",
    "for sample in test_non_english:\n",
    "    print(is_english(sample))"
   ]
  },
  {
   "cell_type": "markdown",
   "metadata": {},
   "source": [
    "At this point, we save fairly good amount of english directed apps. We will stop the optimization at this point for english related apps and now use the function to clean our dataset."
   ]
  },
  {
   "cell_type": "code",
   "execution_count": 46,
   "metadata": {},
   "outputs": [
    {
     "name": "stdout",
     "output_type": "stream",
     "text": [
      "Length of english android apps:  9614\n",
      "Length of english ios apps:  6183\n"
     ]
    }
   ],
   "source": [
    "android_english = []\n",
    "ios_english = []\n",
    "for app in cleaned_android:\n",
    "    app_name = app[0]\n",
    "    if is_english(app_name):\n",
    "        android_english.append(app)\n",
    "\n",
    "for app in apple_data:\n",
    "    app_name = app[1]\n",
    "    if is_english(app_name):\n",
    "        ios_english.append(app)\n",
    "        \n",
    "print(\"Length of english android apps: \", len(android_english))\n",
    "print(\"Length of english ios apps: \", len(ios_english))"
   ]
  },
  {
   "cell_type": "markdown",
   "metadata": {},
   "source": [
    "We see that we are left with __9614__ android apps and __6183__ ios apps."
   ]
  },
  {
   "cell_type": "code",
   "execution_count": 58,
   "metadata": {},
   "outputs": [
    {
     "name": "stdout",
     "output_type": "stream",
     "text": [
      "We reduced: 0.47 percentage of non-english android apps\n",
      "We reduced: 14.09 percentage of non-english ios apps\n"
     ]
    }
   ],
   "source": [
    "non_english_android_perc = (1 - (len(android_english) / len(cleaned_android))) * 100\n",
    "print(f\"We reduced: {round(non_english_android_perc, 2)} percentage of non-english android apps\")\n",
    "non_english_ios_perc = (1 - (len(ios_english) / len(apple_data))) * 100\n",
    "print(f\"We reduced: {round(non_english_ios_perc, 2)} percentage of non-english ios apps\")"
   ]
  },
  {
   "cell_type": "markdown",
   "metadata": {},
   "source": [
    "### Selecting only the free apps\n",
    "We are only interested in building free apps, as our main source of revenue is in-app ads. We will separate or select only those apps that are free. This will be our last step in the process of _Data Cleaning_ in which we already covered - \n",
    "> * Removing inaccurate data\n",
    "> * Removing duplicate entries\n",
    "> * Removing non-english apps"
   ]
  },
  {
   "cell_type": "code",
   "execution_count": 60,
   "metadata": {},
   "outputs": [
    {
     "name": "stdout",
     "output_type": "stream",
     "text": [
      "Checking Android Header\n",
      "['App', 'Category', 'Rating', 'Reviews', 'Size', 'Installs', 'Type', 'Price', 'Content Rating', 'Genres', 'Last Updated', 'Current Ver', 'Android Ver']\n",
      "\n",
      "\n",
      "Checking iOS Header\n",
      "['id', 'track_name', 'size_bytes', 'currency', 'price', 'rating_count_tot', 'rating_count_ver', 'user_rating', 'user_rating_ver', 'ver', 'cont_rating', 'prime_genre', 'sup_devices.num', 'ipadSc_urls.num', 'lang.num', 'vpp_lic']\n"
     ]
    }
   ],
   "source": [
    "print(\"Checking Android Header\")\n",
    "print(android_header)\n",
    "print('\\n')\n",
    "print(\"Checking iOS Header\")\n",
    "print(ios_header)"
   ]
  },
  {
   "cell_type": "code",
   "execution_count": 73,
   "metadata": {},
   "outputs": [
    {
     "name": "stdout",
     "output_type": "stream",
     "text": [
      "['Photo Editor & Candy Camera & Grid & ScrapBook', 'ART_AND_DESIGN', '4.1', '159', '19M', '10,000+', 'Free', '0', 'Everyone', 'Art & Design', 'January 7, 2018', '1.0.0', '4.0.3 and up']\n",
      "\n",
      "\n",
      "['U Launcher Lite – FREE Live Cool Themes, Hide Apps', 'ART_AND_DESIGN', '4.7', '87510', '8.7M', '5,000,000+', 'Free', '0', 'Everyone', 'Art & Design', 'August 1, 2018', '1.2.4', '4.0.3 and up']\n",
      "\n",
      "\n"
     ]
    }
   ],
   "source": [
    "explore_data(android_english, 0, 2, False)"
   ]
  },
  {
   "cell_type": "code",
   "execution_count": 75,
   "metadata": {},
   "outputs": [
    {
     "name": "stdout",
     "output_type": "stream",
     "text": [
      "8864\n",
      "3222\n"
     ]
    }
   ],
   "source": [
    "android_final = []\n",
    "ios_final = []\n",
    "for app in android_english:\n",
    "    price = app[7]\n",
    "    if price == \"0\":\n",
    "        android_final.append(app)\n",
    "for app in ios_english:\n",
    "    price = app[4]\n",
    "    if price == \"0.0\":\n",
    "        ios_final.append(app)\n",
    "        \n",
    "print(len(android_final))\n",
    "print(len(ios_final))"
   ]
  },
  {
   "cell_type": "code",
   "execution_count": null,
   "metadata": {},
   "outputs": [],
   "source": []
  }
 ],
 "metadata": {
  "kernelspec": {
   "display_name": "Python 3",
   "language": "python",
   "name": "python3"
  },
  "language_info": {
   "codemirror_mode": {
    "name": "ipython",
    "version": 3
   },
   "file_extension": ".py",
   "mimetype": "text/x-python",
   "name": "python",
   "nbconvert_exporter": "python",
   "pygments_lexer": "ipython3",
   "version": "3.6.5"
  }
 },
 "nbformat": 4,
 "nbformat_minor": 2
}

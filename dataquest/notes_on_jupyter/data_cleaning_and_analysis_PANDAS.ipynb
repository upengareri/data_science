{
 "cells": [
  {
   "cell_type": "markdown",
   "metadata": {},
   "source": [
    "### This notebook contains summary of concepts and code snippets learned while doing the mission \"Data Cleaning and Analysis\".\n",
    "\n",
    "## WORLD HAPPINESS SCORE"
   ]
  },
  {
   "cell_type": "code",
   "execution_count": 2,
   "metadata": {},
   "outputs": [],
   "source": [
    "#import sys  \n",
    "#!{sys.executable} -m pip install matplotlib"
   ]
  },
  {
   "cell_type": "code",
   "execution_count": 3,
   "metadata": {},
   "outputs": [],
   "source": [
    "import pandas as pd\n",
    "import matplotlib.pyplot as plt\n",
    "%matplotlib inline"
   ]
  },
  {
   "cell_type": "code",
   "execution_count": 4,
   "metadata": {},
   "outputs": [],
   "source": [
    "happiness2015 = pd.read_csv(\"World_Happiness_2015.csv\")\n",
    "# happiness2015.info()  # shows info about the table/dataframe\n",
    "# happiness2015.head()  # prints/returns first 5 rows"
   ]
  },
  {
   "cell_type": "code",
   "execution_count": 5,
   "metadata": {},
   "outputs": [],
   "source": [
    "# To get first 5 rows of the dataframe\n",
    "first_5 = happiness2015.iloc[:5, :]"
   ]
  },
  {
   "cell_type": "markdown",
   "metadata": {},
   "source": [
    "If we try to plot happiness score for every country, the plot will be cluttered and unreadable.\n",
    "If we check the table and think about \"group\", we can see every country is grouped into region. Let's now check how many unique regions do we have."
   ]
  },
  {
   "cell_type": "code",
   "execution_count": 6,
   "metadata": {},
   "outputs": [
    {
     "data": {
      "text/plain": [
       "array(['Western Europe', 'North America', 'Australia and New Zealand',\n",
       "       'Middle East and Northern Africa', 'Latin America and Caribbean',\n",
       "       'Southeastern Asia', 'Central and Eastern Europe', 'Eastern Asia',\n",
       "       'Sub-Saharan Africa', 'Southern Asia'], dtype=object)"
      ]
     },
     "execution_count": 6,
     "metadata": {},
     "output_type": "execute_result"
    }
   ],
   "source": [
    "happiness2015[\"Region\"].unique()"
   ]
  },
  {
   "cell_type": "markdown",
   "metadata": {},
   "source": [
    "Okay, let's try and plot the happiness score of \"Southern Asia\" group."
   ]
  },
  {
   "cell_type": "code",
   "execution_count": 7,
   "metadata": {},
   "outputs": [
    {
     "data": {
      "text/html": [
       "<div>\n",
       "<style scoped>\n",
       "    .dataframe tbody tr th:only-of-type {\n",
       "        vertical-align: middle;\n",
       "    }\n",
       "\n",
       "    .dataframe tbody tr th {\n",
       "        vertical-align: top;\n",
       "    }\n",
       "\n",
       "    .dataframe thead th {\n",
       "        text-align: right;\n",
       "    }\n",
       "</style>\n",
       "<table border=\"1\" class=\"dataframe\">\n",
       "  <thead>\n",
       "    <tr style=\"text-align: right;\">\n",
       "      <th></th>\n",
       "      <th>Country</th>\n",
       "      <th>Region</th>\n",
       "      <th>Happiness Rank</th>\n",
       "      <th>Happiness Score</th>\n",
       "      <th>Standard Error</th>\n",
       "      <th>Economy (GDP per Capita)</th>\n",
       "      <th>Family</th>\n",
       "      <th>Health (Life Expectancy)</th>\n",
       "      <th>Freedom</th>\n",
       "      <th>Trust (Government Corruption)</th>\n",
       "      <th>Generosity</th>\n",
       "      <th>Dystopia Residual</th>\n",
       "    </tr>\n",
       "  </thead>\n",
       "  <tbody>\n",
       "    <tr>\n",
       "      <th>78</th>\n",
       "      <td>Bhutan</td>\n",
       "      <td>Southern Asia</td>\n",
       "      <td>79</td>\n",
       "      <td>5.253</td>\n",
       "      <td>0.03225</td>\n",
       "      <td>0.77042</td>\n",
       "      <td>1.10395</td>\n",
       "      <td>0.57407</td>\n",
       "      <td>0.53206</td>\n",
       "      <td>0.15445</td>\n",
       "      <td>0.47998</td>\n",
       "      <td>1.63794</td>\n",
       "    </tr>\n",
       "    <tr>\n",
       "      <th>80</th>\n",
       "      <td>Pakistan</td>\n",
       "      <td>Southern Asia</td>\n",
       "      <td>81</td>\n",
       "      <td>5.194</td>\n",
       "      <td>0.03726</td>\n",
       "      <td>0.59543</td>\n",
       "      <td>0.41411</td>\n",
       "      <td>0.51466</td>\n",
       "      <td>0.12102</td>\n",
       "      <td>0.10464</td>\n",
       "      <td>0.33671</td>\n",
       "      <td>3.10709</td>\n",
       "    </tr>\n",
       "    <tr>\n",
       "      <th>108</th>\n",
       "      <td>Bangladesh</td>\n",
       "      <td>Southern Asia</td>\n",
       "      <td>109</td>\n",
       "      <td>4.694</td>\n",
       "      <td>0.03077</td>\n",
       "      <td>0.39753</td>\n",
       "      <td>0.43106</td>\n",
       "      <td>0.60164</td>\n",
       "      <td>0.40820</td>\n",
       "      <td>0.12569</td>\n",
       "      <td>0.21222</td>\n",
       "      <td>2.51767</td>\n",
       "    </tr>\n",
       "    <tr>\n",
       "      <th>116</th>\n",
       "      <td>India</td>\n",
       "      <td>Southern Asia</td>\n",
       "      <td>117</td>\n",
       "      <td>4.565</td>\n",
       "      <td>0.02043</td>\n",
       "      <td>0.64499</td>\n",
       "      <td>0.38174</td>\n",
       "      <td>0.51529</td>\n",
       "      <td>0.39786</td>\n",
       "      <td>0.08492</td>\n",
       "      <td>0.26475</td>\n",
       "      <td>2.27513</td>\n",
       "    </tr>\n",
       "    <tr>\n",
       "      <th>120</th>\n",
       "      <td>Nepal</td>\n",
       "      <td>Southern Asia</td>\n",
       "      <td>121</td>\n",
       "      <td>4.514</td>\n",
       "      <td>0.03607</td>\n",
       "      <td>0.35997</td>\n",
       "      <td>0.86449</td>\n",
       "      <td>0.56874</td>\n",
       "      <td>0.38282</td>\n",
       "      <td>0.05907</td>\n",
       "      <td>0.32296</td>\n",
       "      <td>1.95637</td>\n",
       "    </tr>\n",
       "    <tr>\n",
       "      <th>131</th>\n",
       "      <td>Sri Lanka</td>\n",
       "      <td>Southern Asia</td>\n",
       "      <td>132</td>\n",
       "      <td>4.271</td>\n",
       "      <td>0.03751</td>\n",
       "      <td>0.83524</td>\n",
       "      <td>1.01905</td>\n",
       "      <td>0.70806</td>\n",
       "      <td>0.53726</td>\n",
       "      <td>0.09179</td>\n",
       "      <td>0.40828</td>\n",
       "      <td>0.67108</td>\n",
       "    </tr>\n",
       "    <tr>\n",
       "      <th>152</th>\n",
       "      <td>Afghanistan</td>\n",
       "      <td>Southern Asia</td>\n",
       "      <td>153</td>\n",
       "      <td>3.575</td>\n",
       "      <td>0.03084</td>\n",
       "      <td>0.31982</td>\n",
       "      <td>0.30285</td>\n",
       "      <td>0.30335</td>\n",
       "      <td>0.23414</td>\n",
       "      <td>0.09719</td>\n",
       "      <td>0.36510</td>\n",
       "      <td>1.95210</td>\n",
       "    </tr>\n",
       "  </tbody>\n",
       "</table>\n",
       "</div>"
      ],
      "text/plain": [
       "         Country         Region  Happiness Rank  Happiness Score  \\\n",
       "78        Bhutan  Southern Asia              79            5.253   \n",
       "80      Pakistan  Southern Asia              81            5.194   \n",
       "108   Bangladesh  Southern Asia             109            4.694   \n",
       "116        India  Southern Asia             117            4.565   \n",
       "120        Nepal  Southern Asia             121            4.514   \n",
       "131    Sri Lanka  Southern Asia             132            4.271   \n",
       "152  Afghanistan  Southern Asia             153            3.575   \n",
       "\n",
       "     Standard Error  Economy (GDP per Capita)   Family  \\\n",
       "78          0.03225                   0.77042  1.10395   \n",
       "80          0.03726                   0.59543  0.41411   \n",
       "108         0.03077                   0.39753  0.43106   \n",
       "116         0.02043                   0.64499  0.38174   \n",
       "120         0.03607                   0.35997  0.86449   \n",
       "131         0.03751                   0.83524  1.01905   \n",
       "152         0.03084                   0.31982  0.30285   \n",
       "\n",
       "     Health (Life Expectancy)  Freedom  Trust (Government Corruption)  \\\n",
       "78                    0.57407  0.53206                        0.15445   \n",
       "80                    0.51466  0.12102                        0.10464   \n",
       "108                   0.60164  0.40820                        0.12569   \n",
       "116                   0.51529  0.39786                        0.08492   \n",
       "120                   0.56874  0.38282                        0.05907   \n",
       "131                   0.70806  0.53726                        0.09179   \n",
       "152                   0.30335  0.23414                        0.09719   \n",
       "\n",
       "     Generosity  Dystopia Residual  \n",
       "78      0.47998            1.63794  \n",
       "80      0.33671            3.10709  \n",
       "108     0.21222            2.51767  \n",
       "116     0.26475            2.27513  \n",
       "120     0.32296            1.95637  \n",
       "131     0.40828            0.67108  \n",
       "152     0.36510            1.95210  "
      ]
     },
     "execution_count": 7,
     "metadata": {},
     "output_type": "execute_result"
    }
   ],
   "source": [
    "so_asia = happiness2015[happiness2015[\"Region\"] == \"Southern Asia\"]\n",
    "so_asia"
   ]
  },
  {
   "cell_type": "markdown",
   "metadata": {},
   "source": [
    "#### How to directly plot BAR from DATAFRAME"
   ]
  },
  {
   "cell_type": "code",
   "execution_count": 8,
   "metadata": {},
   "outputs": [
    {
     "data": {
      "text/plain": [
       "<AxesSubplot:title={'center':'Southern Asia Happiness Scores'}, ylabel='Country'>"
      ]
     },
     "execution_count": 8,
     "metadata": {},
     "output_type": "execute_result"
    },
    {
     "data": {
      "image/png": "[encoded data removed]",
      "text/plain": [
       "<Figure size 432x288 with 1 Axes>"
      ]
     },
     "metadata": {
      "needs_background": "light"
     },
     "output_type": "display_data"
    }
   ],
   "source": [
    "so_asia.plot(x='Country', y='Happiness Score', kind='barh', title='Southern Asia Happiness Scores', xlim=(0,10))"
   ]
  },
  {
   "cell_type": "markdown",
   "metadata": {},
   "source": [
    "------------------------------ __AGGREGATION__ -----------------------------\n",
    "---"
   ]
  },
  {
   "cell_type": "markdown",
   "metadata": {},
   "source": [
    "__Aggregation__ is applying a statistical operation to groups of data. It reduces dimensionality so that the dataframe returned will contain just one value for each group. The aggregation process can be broken down into three steps:\n",
    "\n",
    "1. Split the dataframe into groups.\n",
    "2. Apply a function to each group.\n",
    "3. Combine the results into one data structure."
   ]
  },
  {
   "cell_type": "markdown",
   "metadata": {},
   "source": [
    "#### Pandas groupby syntax"
   ]
  },
  {
   "cell_type": "code",
   "execution_count": 9,
   "metadata": {},
   "outputs": [],
   "source": [
    "grouped = happiness2015.groupby(\"Region\")\n",
    "n_america = grouped.get_group(\"North America\")\n",
    "# n_america\n",
    "# grouped.groups"
   ]
  },
  {
   "cell_type": "markdown",
   "metadata": {},
   "source": [
    "`grouped.groups` attribute/property returns dictionary with unique region name as key and `iloc` or `index` of items (falling under that region) as list of value(s).\n",
    "\n",
    "Similary `grouped` has methods such as `min`, `max`, `size`, `mean`, `sum`, `count`"
   ]
  },
  {
   "cell_type": "markdown",
   "metadata": {},
   "source": [
    "#### AGGREGATION by GROUPBY"
   ]
  },
  {
   "cell_type": "code",
   "execution_count": 10,
   "metadata": {},
   "outputs": [
    {
     "data": {
      "text/plain": [
       "Region\n",
       "Australia and New Zealand          0.002\n",
       "Central and Eastern Europe         2.287\n",
       "Eastern Asia                       1.424\n",
       "Latin America and Caribbean        2.708\n",
       "Middle East and Northern Africa    4.272\n",
       "North America                      0.308\n",
       "Southeastern Asia                  2.979\n",
       "Southern Asia                      1.678\n",
       "Sub-Saharan Africa                 2.638\n",
       "Western Europe                     2.730\n",
       "Name: Happiness Score, dtype: float64"
      ]
     },
     "execution_count": 10,
     "metadata": {},
     "output_type": "execute_result"
    }
   ],
   "source": [
    "happiness2015.groupby('Region')['Happiness Score'].agg([max, min])  # if list of methods\n",
    "happiness2015.groupby('Region')['Happiness Score'].mean()  # if only single method\n",
    "\n",
    "def custom_method(group):\n",
    "    return (group.max() - group.min())\n",
    "\n",
    "happy_grouped = happiness2015.groupby('Region')['Happiness Score']\n",
    "happy_grouped.agg(custom_method)"
   ]
  },
  {
   "cell_type": "markdown",
   "metadata": {},
   "source": [
    "#### AGGREGATION by PIVOT_TABLE"
   ]
  },
  {
   "cell_type": "code",
   "execution_count": 11,
   "metadata": {},
   "outputs": [
    {
     "data": {
      "text/html": [
       "<div>\n",
       "<style scoped>\n",
       "    .dataframe tbody tr th:only-of-type {\n",
       "        vertical-align: middle;\n",
       "    }\n",
       "\n",
       "    .dataframe tbody tr th {\n",
       "        vertical-align: top;\n",
       "    }\n",
       "\n",
       "    .dataframe thead tr th {\n",
       "        text-align: left;\n",
       "    }\n",
       "\n",
       "    .dataframe thead tr:last-of-type th {\n",
       "        text-align: right;\n",
       "    }\n",
       "</style>\n",
       "<table border=\"1\" class=\"dataframe\">\n",
       "  <thead>\n",
       "    <tr>\n",
       "      <th></th>\n",
       "      <th>mean</th>\n",
       "      <th>amin</th>\n",
       "      <th>amax</th>\n",
       "    </tr>\n",
       "    <tr>\n",
       "      <th></th>\n",
       "      <th>Happiness Score</th>\n",
       "      <th>Happiness Score</th>\n",
       "      <th>Happiness Score</th>\n",
       "    </tr>\n",
       "    <tr>\n",
       "      <th>Region</th>\n",
       "      <th></th>\n",
       "      <th></th>\n",
       "      <th></th>\n",
       "    </tr>\n",
       "  </thead>\n",
       "  <tbody>\n",
       "    <tr>\n",
       "      <th>Australia and New Zealand</th>\n",
       "      <td>7.285000</td>\n",
       "      <td>7.284</td>\n",
       "      <td>7.286</td>\n",
       "    </tr>\n",
       "    <tr>\n",
       "      <th>Central and Eastern Europe</th>\n",
       "      <td>5.332931</td>\n",
       "      <td>4.218</td>\n",
       "      <td>6.505</td>\n",
       "    </tr>\n",
       "    <tr>\n",
       "      <th>Eastern Asia</th>\n",
       "      <td>5.626167</td>\n",
       "      <td>4.874</td>\n",
       "      <td>6.298</td>\n",
       "    </tr>\n",
       "    <tr>\n",
       "      <th>Latin America and Caribbean</th>\n",
       "      <td>6.144682</td>\n",
       "      <td>4.518</td>\n",
       "      <td>7.226</td>\n",
       "    </tr>\n",
       "    <tr>\n",
       "      <th>Middle East and Northern Africa</th>\n",
       "      <td>5.406900</td>\n",
       "      <td>3.006</td>\n",
       "      <td>7.278</td>\n",
       "    </tr>\n",
       "    <tr>\n",
       "      <th>North America</th>\n",
       "      <td>7.273000</td>\n",
       "      <td>7.119</td>\n",
       "      <td>7.427</td>\n",
       "    </tr>\n",
       "    <tr>\n",
       "      <th>Southeastern Asia</th>\n",
       "      <td>5.317444</td>\n",
       "      <td>3.819</td>\n",
       "      <td>6.798</td>\n",
       "    </tr>\n",
       "    <tr>\n",
       "      <th>Southern Asia</th>\n",
       "      <td>4.580857</td>\n",
       "      <td>3.575</td>\n",
       "      <td>5.253</td>\n",
       "    </tr>\n",
       "    <tr>\n",
       "      <th>Sub-Saharan Africa</th>\n",
       "      <td>4.202800</td>\n",
       "      <td>2.839</td>\n",
       "      <td>5.477</td>\n",
       "    </tr>\n",
       "    <tr>\n",
       "      <th>Western Europe</th>\n",
       "      <td>6.689619</td>\n",
       "      <td>4.857</td>\n",
       "      <td>7.587</td>\n",
       "    </tr>\n",
       "    <tr>\n",
       "      <th>All</th>\n",
       "      <td>5.375734</td>\n",
       "      <td>2.839</td>\n",
       "      <td>7.587</td>\n",
       "    </tr>\n",
       "  </tbody>\n",
       "</table>\n",
       "</div>"
      ],
      "text/plain": [
       "                                           mean            amin  \\\n",
       "                                Happiness Score Happiness Score   \n",
       "Region                                                            \n",
       "Australia and New Zealand              7.285000           7.284   \n",
       "Central and Eastern Europe             5.332931           4.218   \n",
       "Eastern Asia                           5.626167           4.874   \n",
       "Latin America and Caribbean            6.144682           4.518   \n",
       "Middle East and Northern Africa        5.406900           3.006   \n",
       "North America                          7.273000           7.119   \n",
       "Southeastern Asia                      5.317444           3.819   \n",
       "Southern Asia                          4.580857           3.575   \n",
       "Sub-Saharan Africa                     4.202800           2.839   \n",
       "Western Europe                         6.689619           4.857   \n",
       "All                                    5.375734           2.839   \n",
       "\n",
       "                                           amax  \n",
       "                                Happiness Score  \n",
       "Region                                           \n",
       "Australia and New Zealand                 7.286  \n",
       "Central and Eastern Europe                6.505  \n",
       "Eastern Asia                              6.298  \n",
       "Latin America and Caribbean               7.226  \n",
       "Middle East and Northern Africa           7.278  \n",
       "North America                             7.427  \n",
       "Southeastern Asia                         6.798  \n",
       "Southern Asia                             5.253  \n",
       "Sub-Saharan Africa                        5.477  \n",
       "Western Europe                            7.587  \n",
       "All                                       7.587  "
      ]
     },
     "execution_count": 11,
     "metadata": {},
     "output_type": "execute_result"
    }
   ],
   "source": [
    "import numpy as np\n",
    "happiness2015.pivot_table('Happiness Score', 'Region', aggfunc=[np.mean, np.min , np.max], margins=True)\n",
    "# first argument is for value, second argument is for index\n",
    "# or we can say pivot_table for \"Happiness Score\" based on \"Region\"\n",
    "# margins executes the aggfunc for enitre 'values' column instead of region-wise aggregation"
   ]
  },
  {
   "cell_type": "code",
   "execution_count": 12,
   "metadata": {},
   "outputs": [
    {
     "data": {
      "text/html": [
       "<div>\n",
       "<style scoped>\n",
       "    .dataframe tbody tr th:only-of-type {\n",
       "        vertical-align: middle;\n",
       "    }\n",
       "\n",
       "    .dataframe tbody tr th {\n",
       "        vertical-align: top;\n",
       "    }\n",
       "\n",
       "    .dataframe thead th {\n",
       "        text-align: right;\n",
       "    }\n",
       "</style>\n",
       "<table border=\"1\" class=\"dataframe\">\n",
       "  <thead>\n",
       "    <tr style=\"text-align: right;\">\n",
       "      <th></th>\n",
       "      <th>Family</th>\n",
       "      <th>Happiness Score</th>\n",
       "    </tr>\n",
       "    <tr>\n",
       "      <th>Region</th>\n",
       "      <th></th>\n",
       "      <th></th>\n",
       "    </tr>\n",
       "  </thead>\n",
       "  <tbody>\n",
       "    <tr>\n",
       "      <th>Australia and New Zealand</th>\n",
       "      <td>1.314450</td>\n",
       "      <td>7.285000</td>\n",
       "    </tr>\n",
       "    <tr>\n",
       "      <th>Central and Eastern Europe</th>\n",
       "      <td>1.053042</td>\n",
       "      <td>5.332931</td>\n",
       "    </tr>\n",
       "    <tr>\n",
       "      <th>Eastern Asia</th>\n",
       "      <td>1.099427</td>\n",
       "      <td>5.626167</td>\n",
       "    </tr>\n",
       "    <tr>\n",
       "      <th>Latin America and Caribbean</th>\n",
       "      <td>1.104720</td>\n",
       "      <td>6.144682</td>\n",
       "    </tr>\n",
       "    <tr>\n",
       "      <th>Middle East and Northern Africa</th>\n",
       "      <td>0.920490</td>\n",
       "      <td>5.406900</td>\n",
       "    </tr>\n",
       "    <tr>\n",
       "      <th>North America</th>\n",
       "      <td>1.284860</td>\n",
       "      <td>7.273000</td>\n",
       "    </tr>\n",
       "    <tr>\n",
       "      <th>Southeastern Asia</th>\n",
       "      <td>0.940468</td>\n",
       "      <td>5.317444</td>\n",
       "    </tr>\n",
       "    <tr>\n",
       "      <th>Southern Asia</th>\n",
       "      <td>0.645321</td>\n",
       "      <td>4.580857</td>\n",
       "    </tr>\n",
       "    <tr>\n",
       "      <th>Sub-Saharan Africa</th>\n",
       "      <td>0.809085</td>\n",
       "      <td>4.202800</td>\n",
       "    </tr>\n",
       "    <tr>\n",
       "      <th>Western Europe</th>\n",
       "      <td>1.247302</td>\n",
       "      <td>6.689619</td>\n",
       "    </tr>\n",
       "  </tbody>\n",
       "</table>\n",
       "</div>"
      ],
      "text/plain": [
       "                                   Family  Happiness Score\n",
       "Region                                                    \n",
       "Australia and New Zealand        1.314450         7.285000\n",
       "Central and Eastern Europe       1.053042         5.332931\n",
       "Eastern Asia                     1.099427         5.626167\n",
       "Latin America and Caribbean      1.104720         6.144682\n",
       "Middle East and Northern Africa  0.920490         5.406900\n",
       "North America                    1.284860         7.273000\n",
       "Southeastern Asia                0.940468         5.317444\n",
       "Southern Asia                    0.645321         4.580857\n",
       "Sub-Saharan Africa               0.809085         4.202800\n",
       "Western Europe                   1.247302         6.689619"
      ]
     },
     "execution_count": 12,
     "metadata": {},
     "output_type": "execute_result"
    }
   ],
   "source": [
    "# \n",
    "happiness2015.pivot_table(['Happiness Score', 'Family'], 'Region')"
   ]
  },
  {
   "cell_type": "code",
   "execution_count": 13,
   "metadata": {},
   "outputs": [
    {
     "data": {
      "text/html": [
       "<div>\n",
       "<style scoped>\n",
       "    .dataframe tbody tr th:only-of-type {\n",
       "        vertical-align: middle;\n",
       "    }\n",
       "\n",
       "    .dataframe tbody tr th {\n",
       "        vertical-align: top;\n",
       "    }\n",
       "\n",
       "    .dataframe thead th {\n",
       "        text-align: right;\n",
       "    }\n",
       "</style>\n",
       "<table border=\"1\" class=\"dataframe\">\n",
       "  <thead>\n",
       "    <tr style=\"text-align: right;\">\n",
       "      <th></th>\n",
       "      <th>Happiness Score</th>\n",
       "      <th>Family</th>\n",
       "    </tr>\n",
       "    <tr>\n",
       "      <th>Region</th>\n",
       "      <th></th>\n",
       "      <th></th>\n",
       "    </tr>\n",
       "  </thead>\n",
       "  <tbody>\n",
       "    <tr>\n",
       "      <th>Australia and New Zealand</th>\n",
       "      <td>7.285000</td>\n",
       "      <td>1.314450</td>\n",
       "    </tr>\n",
       "    <tr>\n",
       "      <th>Central and Eastern Europe</th>\n",
       "      <td>5.332931</td>\n",
       "      <td>1.053042</td>\n",
       "    </tr>\n",
       "    <tr>\n",
       "      <th>Eastern Asia</th>\n",
       "      <td>5.626167</td>\n",
       "      <td>1.099427</td>\n",
       "    </tr>\n",
       "    <tr>\n",
       "      <th>Latin America and Caribbean</th>\n",
       "      <td>6.144682</td>\n",
       "      <td>1.104720</td>\n",
       "    </tr>\n",
       "    <tr>\n",
       "      <th>Middle East and Northern Africa</th>\n",
       "      <td>5.406900</td>\n",
       "      <td>0.920490</td>\n",
       "    </tr>\n",
       "    <tr>\n",
       "      <th>North America</th>\n",
       "      <td>7.273000</td>\n",
       "      <td>1.284860</td>\n",
       "    </tr>\n",
       "    <tr>\n",
       "      <th>Southeastern Asia</th>\n",
       "      <td>5.317444</td>\n",
       "      <td>0.940468</td>\n",
       "    </tr>\n",
       "    <tr>\n",
       "      <th>Southern Asia</th>\n",
       "      <td>4.580857</td>\n",
       "      <td>0.645321</td>\n",
       "    </tr>\n",
       "    <tr>\n",
       "      <th>Sub-Saharan Africa</th>\n",
       "      <td>4.202800</td>\n",
       "      <td>0.809085</td>\n",
       "    </tr>\n",
       "    <tr>\n",
       "      <th>Western Europe</th>\n",
       "      <td>6.689619</td>\n",
       "      <td>1.247302</td>\n",
       "    </tr>\n",
       "  </tbody>\n",
       "</table>\n",
       "</div>"
      ],
      "text/plain": [
       "                                 Happiness Score    Family\n",
       "Region                                                    \n",
       "Australia and New Zealand               7.285000  1.314450\n",
       "Central and Eastern Europe              5.332931  1.053042\n",
       "Eastern Asia                            5.626167  1.099427\n",
       "Latin America and Caribbean             6.144682  1.104720\n",
       "Middle East and Northern Africa         5.406900  0.920490\n",
       "North America                           7.273000  1.284860\n",
       "Southeastern Asia                       5.317444  0.940468\n",
       "Southern Asia                           4.580857  0.645321\n",
       "Sub-Saharan Africa                      4.202800  0.809085\n",
       "Western Europe                          6.689619  1.247302"
      ]
     },
     "execution_count": 13,
     "metadata": {},
     "output_type": "execute_result"
    }
   ],
   "source": [
    "happiness2015.groupby('Region')[['Happiness Score', 'Family']].agg(np.mean)"
   ]
  },
  {
   "cell_type": "markdown",
   "metadata": {},
   "source": [
    "Both `groupby` and `pivot_table` does the same as of now except the additional `margins` part in `pivot_table` 🙃"
   ]
  },
  {
   "cell_type": "markdown",
   "metadata": {},
   "source": [
    "Similary below is the example of `groupby` and `pivot_table` for multiple __values__ and multiple __aggregation functions__ applied on \"Region\" group"
   ]
  },
  {
   "cell_type": "code",
   "execution_count": 14,
   "metadata": {},
   "outputs": [],
   "source": [
    "grouped = happiness2015.groupby(\"Region\")[[\"Happiness Score\", \"Family\"]]\n",
    "happy_family_stats = grouped.agg([np.min, np.max, np.mean])\n",
    "\n",
    "pv_happy_family_stats = happiness2015.pivot_table([\"Happiness Score\", \"Family\"], \"Region\", aggfunc=[np.min, np.max, np.mean], margins=True)"
   ]
  },
  {
   "cell_type": "markdown",
   "metadata": {},
   "source": [
    "--------------- __END OF \"AGGREGATION BY GROUPBY AND PIVOT_TABLE\"__ ------------\n",
    "---"
   ]
  },
  {
   "cell_type": "markdown",
   "metadata": {},
   "source": [
    "----------------------------- _JOINING DATA_ --------------------------\n",
    "---"
   ]
  },
  {
   "cell_type": "markdown",
   "metadata": {},
   "source": [
    "Concat two dataframes with different shape.\n",
    "\n",
    "`axis=0` is gluing dataframe at the bottom i.e row wise\n",
    "\n",
    "`axis=1` is gluing dataframe at the right i.e columns are added"
   ]
  },
  {
   "cell_type": "markdown",
   "metadata": {},
   "source": [
    "```python\n",
    "head_2015 = happiness2015[['Year','Country','Happiness Score', 'Standard Error']].head(4)\n",
    "head_2016 = happiness2016[['Country','Happiness Score', 'Year']].head(3)\n",
    "concat_axis0 = pd.concat([head_2015, head_2016], ignore_index=True)  # axis=0 is default\n",
    "rows = len(concat_axis0)\n",
    "columns = len(concat_axis0.columns)\n",
    "```"
   ]
  },
  {
   "cell_type": "markdown",
   "metadata": {},
   "source": [
    "> #### Revision: Pandas `len`, `shape`, `size`\n",
    "\n",
    "> - pandas.DataFrame\n",
    "    * Display number of rows, columns, etc.: `df.info()`\n",
    "    * Get the number of rows: `len(df)`\n",
    "    * Get the number of columns: `len(df.columns)`\n",
    "    * Get the number of rows and columns: `df.shape`\n",
    "    * Get the number of elements: `df.size`\n",
    "    \n",
    "> - pandas.Series\n",
    "    * Get the number of elements: `len(s)`, `s.size`"
   ]
  },
  {
   "cell_type": "markdown",
   "metadata": {},
   "source": [
    "__MERGE__"
   ]
  },
  {
   "cell_type": "markdown",
   "metadata": {},
   "source": [
    "`pd.merge(left=df1, right=df2, on=\"col_name\", how=\"left\", suffixes=(\"_x\", \"_y\"))`  # `how = left, right, inner(default), outer`"
   ]
  },
  {
   "cell_type": "markdown",
   "metadata": {},
   "source": [
    "`pd.merge` with `how=\"outer\"` is same as `pd.concat` except `pd.concat` can join more than two dfs at a time while `pd.merge` can join only two at a time.\n",
    "\n",
    "One more important differene is that `pd.merge` joins on `axis=1` only."
   ]
  },
  {
   "cell_type": "markdown",
   "metadata": {},
   "source": [
    "__merge based on index__\n",
    "\n",
    "`left_index=True` and `right_index=True`\n",
    "\n",
    "```python\n",
    "merge_index_left = pd.merge(left=four_2015, right=three_2016, how=\"left\", left_index=True, right_index=True, suffixes = ('_2015','_2016'))\n",
    "```"
   ]
  },
  {
   "cell_type": "markdown",
   "metadata": {},
   "source": [
    "The best explanation of understanding `concat`, `join` and `merge` is the official documentation which goes over all the famous scenarios of using the functions along with the examples.\n",
    "\n",
    "https://pandas.pydata.org/pandas-docs/stable/user_guide/merging.html"
   ]
  },
  {
   "cell_type": "markdown",
   "metadata": {},
   "source": [
    "> #### Revision: renaming column\n",
    "\n",
    "> df.rename(columns={'old_col_name': 'new_col_name'}, inplace=True)"
   ]
  },
  {
   "cell_type": "markdown",
   "metadata": {},
   "source": [
    "Below code snippet shows us a simple scenario where we combine three tables and visualize the \"happiness score\" for every year\n",
    "\n",
    "\n",
    "```python\n",
    "happiness2017.rename(columns={'Happiness.Score': 'Happiness Score'}, inplace=True)\n",
    "\n",
    "combined = pd.concat([happiness2015, happiness2016, happiness2017])\n",
    "pivot_table_combined = combined.pivot_table(index= \"Year\", values=[\"Happiness Score\"])\n",
    "pivot_table_combined.plot(kind=\"barh\", title=\"Mean Happiness Scores by Year\", xlim=(0, 10))\n",
    "```"
   ]
  },
  {
   "cell_type": "markdown",
   "metadata": {},
   "source": [
    "----------------------------------- __END OF JOINING DATA__ ---------------------------------\n",
    "---"
   ]
  },
  {
   "cell_type": "markdown",
   "metadata": {},
   "source": [
    "##  TRANSFORMING DATAFRAME/SERIES\n",
    "\n",
    "We can use `apply`, `applymap` or `map` function to transform dataframe/series\n",
    "\n",
    "`map` takes only one parameter which is a callable function\n",
    "\n",
    "`apply` can also take second parameter which, for example, can be an argument to that callable function\n",
    "\n",
    "`applymap` works on multiple columns at once, meaning, we can use `applymap` on df\n",
    "\n",
    "`melt` to convert columns into a single column (\"variable\" and \"value\" column to be precise)"
   ]
  },
  {
   "cell_type": "markdown",
   "metadata": {},
   "source": [
    "#### NOTE:\n",
    "\n",
    "In general, we should only use the `apply()` method when a vectorized function does not exist. Recall that pandas uses __`vectorization`, the process of applying operations to whole series at once, to optimize performance__. When we use the `apply()` method, we're actually looping through rows, so a vectorized method can perform an equivalent task faster than the `apply()` method."
   ]
  },
  {
   "cell_type": "code",
   "execution_count": 15,
   "metadata": {},
   "outputs": [],
   "source": [
    "mapping = {'Economy (GDP per Capita)': 'Economy', 'Health (Life Expectancy)': 'Health',\n",
    "           'Trust (Government Corruption)': 'Trust' }\n",
    "happiness2015.rename(columns=mapping, inplace=True)\n",
    "\n",
    "# Example of apply to know the percentage impact of different columns no happiness score\n",
    "factors = ['Economy', 'Family', 'Health', 'Freedom', 'Trust', 'Generosity', 'Dystopia Residual']\n",
    "\n",
    "def percentages(col):\n",
    "    div = col / happiness2015[\"Happiness Score\"]\n",
    "    return div * 100\n",
    "\n",
    "factor_percentages = happiness2015[factors].apply(percentages)"
   ]
  },
  {
   "cell_type": "markdown",
   "metadata": {},
   "source": [
    "__Example of `melt`__\n",
    "\n",
    "`id_vars` is the list of columns in the df that needs to remain same whereas `value_vars` are the columns that need to be transformed into a single columns"
   ]
  },
  {
   "cell_type": "code",
   "execution_count": 22,
   "metadata": {
    "collapsed": true
   },
   "outputs": [
    {
     "data": {
      "text/html": [
       "<div>\n",
       "<style scoped>\n",
       "    .dataframe tbody tr th:only-of-type {\n",
       "        vertical-align: middle;\n",
       "    }\n",
       "\n",
       "    .dataframe tbody tr th {\n",
       "        vertical-align: top;\n",
       "    }\n",
       "\n",
       "    .dataframe thead th {\n",
       "        text-align: right;\n",
       "    }\n",
       "</style>\n",
       "<table border=\"1\" class=\"dataframe\">\n",
       "  <thead>\n",
       "    <tr style=\"text-align: right;\">\n",
       "      <th></th>\n",
       "      <th>Country</th>\n",
       "      <th>Region</th>\n",
       "      <th>Happiness Rank</th>\n",
       "      <th>Happiness Score</th>\n",
       "      <th>variable</th>\n",
       "      <th>value</th>\n",
       "      <th>Percentage</th>\n",
       "    </tr>\n",
       "  </thead>\n",
       "  <tbody>\n",
       "    <tr>\n",
       "      <th>157</th>\n",
       "      <td>Togo</td>\n",
       "      <td>Sub-Saharan Africa</td>\n",
       "      <td>158</td>\n",
       "      <td>2.839</td>\n",
       "      <td>Economy</td>\n",
       "      <td>0.20868</td>\n",
       "      <td>7.35</td>\n",
       "    </tr>\n",
       "    <tr>\n",
       "      <th>158</th>\n",
       "      <td>Switzerland</td>\n",
       "      <td>Western Europe</td>\n",
       "      <td>1</td>\n",
       "      <td>7.587</td>\n",
       "      <td>Family</td>\n",
       "      <td>1.34951</td>\n",
       "      <td>17.79</td>\n",
       "    </tr>\n",
       "    <tr>\n",
       "      <th>159</th>\n",
       "      <td>Iceland</td>\n",
       "      <td>Western Europe</td>\n",
       "      <td>2</td>\n",
       "      <td>7.561</td>\n",
       "      <td>Family</td>\n",
       "      <td>1.40223</td>\n",
       "      <td>18.55</td>\n",
       "    </tr>\n",
       "  </tbody>\n",
       "</table>\n",
       "</div>"
      ],
      "text/plain": [
       "         Country              Region  Happiness Rank  Happiness Score  \\\n",
       "157         Togo  Sub-Saharan Africa             158            2.839   \n",
       "158  Switzerland      Western Europe               1            7.587   \n",
       "159      Iceland      Western Europe               2            7.561   \n",
       "\n",
       "    variable    value  Percentage  \n",
       "157  Economy  0.20868        7.35  \n",
       "158   Family  1.34951       17.79  \n",
       "159   Family  1.40223       18.55  "
      ]
     },
     "execution_count": 22,
     "metadata": {},
     "output_type": "execute_result"
    }
   ],
   "source": [
    "melt = pd.melt(happiness2015, id_vars = ['Country', 'Region', 'Happiness Rank', 'Happiness Score'], \n",
    "               value_vars= ['Economy', 'Family', 'Health', 'Freedom', 'Trust', 'Generosity', 'Dystopia Residual'])\n",
    "melt['Percentage'] = round(melt['value']/melt['Happiness Score'] * 100, 2)\n",
    "melt[157:160]"
   ]
  },
  {
   "cell_type": "markdown",
   "metadata": {},
   "source": [
    "__Example of plotting the above data as `PIE` chart__"
   ]
  },
  {
   "cell_type": "code",
   "execution_count": 17,
   "metadata": {},
   "outputs": [
    {
     "data": {
      "text/plain": [
       "<AxesSubplot:ylabel='value'>"
      ]
     },
     "execution_count": 17,
     "metadata": {},
     "output_type": "execute_result"
    },
    {
     "data": {
      "image/png": "[encoded data removed]",
      "text/plain": [
       "<Figure size 432x288 with 1 Axes>"
      ]
     },
     "metadata": {},
     "output_type": "display_data"
    }
   ],
   "source": [
    "pv_melt = melt.pivot_table(index=\"variable\", values=\"value\")\n",
    "pv_melt.plot(kind=\"pie\", y=\"value\", legend=False)"
   ]
  },
  {
   "cell_type": "markdown",
   "metadata": {},
   "source": [
    "The above pie chart shows the impact of various factors on the __Happiness Score__"
   ]
  },
  {
   "cell_type": "markdown",
   "metadata": {},
   "source": [
    "## SUMMARY OF TRANSFORMING DATA"
   ]
  },
  {
   "cell_type": "markdown",
   "metadata": {},
   "source": [
    "#### APPLYING FUNCTIONS ELEMENT-WISE\n",
    "Apply a function element-wise to a series:\n",
    "```python\n",
    "df[col_name].apply(function_name)\n",
    "df[col_name].map(function_name)\n",
    "```\n",
    "\n",
    "Apply a function element-wise to a dataframe:\n",
    "```python\n",
    "df.applymap(function_name)\n",
    "```\n",
    "\n",
    "#### APPLYING FUNCTIONS ALONG AN AXIS\n",
    "Apply a function along an axis, column-wise:\n",
    "```python\n",
    "df.apply(function_name)\n",
    "```\n",
    "#### RESHAPING DATAFRAMES\n",
    "Reshape a dataframe:\n",
    "```python\n",
    "pd.melt(df, id_vars=[col1, col2], value_vars=[col3, col4])\n",
    "```"
   ]
  },
  {
   "cell_type": "markdown",
   "metadata": {},
   "source": [
    "## REGEX"
   ]
  },
  {
   "cell_type": "markdown",
   "metadata": {},
   "source": [
    "If we have a pattern that repeats, we can also use curly brackets { and } to indicate the number of times it repeats"
   ]
  },
  {
   "cell_type": "markdown",
   "metadata": {},
   "source": [
    "`pattern = r\"[1-2][0-9][0-9][0-9]\" = r\"([1-2][0-9]{3})\"`  # example to search for year 2020 (and delete that year :P)"
   ]
  },
  {
   "cell_type": "markdown",
   "metadata": {},
   "source": [
    "## HANDLING MISSING AND DUPLICATE DATA"
   ]
  },
  {
   "cell_type": "markdown",
   "metadata": {},
   "source": [
    "### To check the summary of missing values in:\n",
    "\n",
    "1. `small dataset`\n",
    "\n",
    "__Example:__\n",
    "\n",
    "```\n",
    "missing = happiness2015['Happiness Score'].isnull()\n",
    "happiness2015[missing]\n",
    "```\n",
    "\n",
    "2. `big dataset`\n",
    "\n",
    "__Example:__\n",
    "\n",
    "```\n",
    "happiness2015.isnull().sum()\n",
    "```\n",
    "\n",
    "The result is a series in which:\n",
    "\n",
    "> 2.1 The index contains the names of the columns in happiness2015.\n",
    "\n",
    "> 2.2 The corresponding value is the number of null values in each column."
   ]
  },
  {
   "cell_type": "markdown",
   "metadata": {},
   "source": [
    "### One of the workflow to clean missing values:\n",
    "\n",
    "1. Check for errors in data cleaning/transformation that result in missing values.\n",
    "2. Use data from additional sources to fill missing values.\n",
    "3. Drop row/column.\n",
    "4. Fill missing values with reasonable estimates computed from the available data."
   ]
  },
  {
   "cell_type": "markdown",
   "metadata": {},
   "source": [
    "__USEFUL INFO:__ Pandas replace a character in all column names\n",
    "https://stackoverflow.com/questions/39741429/pandas-replace-a-character-in-all-column-names\n",
    "\n",
    "Example syntax:\n",
    "\n",
    "`happiness2015.columns = happiness2015.columns.str.replace(\"[()]\", \"\").str.strip().str.upper()`"
   ]
  },
  {
   "cell_type": "code",
   "execution_count": null,
   "metadata": {},
   "outputs": [],
   "source": []
  }
 ],
 "metadata": {
  "kernelspec": {
   "display_name": "Python 3",
   "language": "python",
   "name": "python3"
  },
  "language_info": {
   "codemirror_mode": {
    "name": "ipython",
    "version": 3
   },
   "file_extension": ".py",
   "mimetype": "text/x-python",
   "name": "python",
   "nbconvert_exporter": "python",
   "pygments_lexer": "ipython3",
   "version": "3.8.3"
  }
 },
 "nbformat": 4,
 "nbformat_minor": 4
}

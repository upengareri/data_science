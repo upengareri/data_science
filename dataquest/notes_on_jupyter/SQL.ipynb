{
 "cells": [
  {
   "cell_type": "markdown",
   "metadata": {},
   "source": [
    "#### SQL terminology\n",
    "\n",
    "![sql_term](./resources/sql_term.png)"
   ]
  },
  {
   "cell_type": "markdown",
   "metadata": {},
   "source": [
    "__Aggregate__ functions are functions that are applied over columns of values and return a single value.\n",
    "\n",
    "---"
   ]
  },
  {
   "cell_type": "markdown",
   "metadata": {},
   "source": [
    "### Order of clauses\n",
    "\n",
    "```SQL\n",
    "SELECT *\n",
    "    FROM some_table\n",
    "   WHERE some_condition\n",
    "GROUP BY column(s)\n",
    "  HAVING some_condition\n",
    "ORDER BY some_column\n",
    "   LIMIT some_limit\n",
    "```\n",
    "\n",
    "Here is the order in which the clauses run:\n",
    "\n",
    "1. FROM\n",
    "2. WHERE\n",
    "3. GROUP BY\n",
    "4. HAVING\n",
    "5. SELECT\n",
    "6. ORDER BY\n",
    "7. LIMIT\n",
    "\n",
    "Since __aggregate__ functions are part of SELECT, the calculation happens after WHERE acts.\n",
    "\n",
    "---"
   ]
  },
  {
   "cell_type": "markdown",
   "metadata": {},
   "source": [
    "### Types of Functions\n",
    "\n",
    "We know that aggregate functions take column and return a single value. \n",
    "\n",
    "We also have normal functions that take column, does some transformation on each cell of the column and return another column with the same number of rows as original. _Example_ LENGTH, LOWER, UPPER \n",
    "\n",
    "---"
   ]
  },
  {
   "cell_type": "markdown",
   "metadata": {},
   "source": [
    "When making a comparison to __null__ in SQL, we use the __IS__ keyword, rather than the = sign. If we want to select rows where a column is null we can write:\n",
    "\n",
    "`WHERE column_name IS NULL`\n",
    "\n",
    "---"
   ]
  },
  {
   "cell_type": "markdown",
   "metadata": {},
   "source": [
    "__concatenate operator__: `||`\n",
    "\n",
    "---"
   ]
  },
  {
   "cell_type": "markdown",
   "metadata": {},
   "source": [
    "### SUBQUERIES\n",
    "\n",
    "different ways to create table for complex queries\n",
    "\n",
    "subquery(select cols from) -> `with` clause (it's also called named subquery) -> view\n",
    "\n",
    "___WITH_ clause__\n",
    "\n",
    "```SQL\n",
    "WITH\n",
    "    [alias_name] AS ([subquery]),\n",
    "    [alias_name_2] AS ([subquery_2]),\n",
    "    [alias_name_3] AS ([subquery_3])\n",
    "\n",
    "SELECT [main_query]\n",
    "```\n",
    "\n",
    "A WITH statement helps a lot when your main query has some slight complexities.\n",
    "\n",
    "---"
   ]
  },
  {
   "cell_type": "markdown",
   "metadata": {},
   "source": [
    "### Union\n",
    "\n",
    "Where regular joins are used to join columns, the union operator is used __to join rows__ from tables and/or views."
   ]
  },
  {
   "cell_type": "markdown",
   "metadata": {},
   "source": [
    "![union](./resources/sql_union.png)"
   ]
  },
  {
   "cell_type": "markdown",
   "metadata": {},
   "source": [
    "### SET OPERATIONS IN SQL"
   ]
  },
  {
   "cell_type": "markdown",
   "metadata": {},
   "source": [
    "![sql_set](./resources/sql_set.png)"
   ]
  },
  {
   "cell_type": "code",
   "execution_count": null,
   "metadata": {},
   "outputs": [],
   "source": []
  }
 ],
 "metadata": {
  "kernelspec": {
   "display_name": "Python 3.6.5 64-bit",
   "language": "python",
   "name": "python36564bit1ccad37c0a174320bb86e5be865b4afe"
  },
  "language_info": {
   "codemirror_mode": {
    "name": "ipython",
    "version": 3
   },
   "file_extension": ".py",
   "mimetype": "text/x-python",
   "name": "python",
   "nbconvert_exporter": "python",
   "pygments_lexer": "ipython3",
   "version": "3.6.5"
  }
 },
 "nbformat": 4,
 "nbformat_minor": 4
}

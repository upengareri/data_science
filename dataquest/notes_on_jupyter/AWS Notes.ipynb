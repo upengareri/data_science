{
 "cells": [
  {
   "cell_type": "markdown",
   "metadata": {},
   "source": [
    "### What is cloud?\n",
    "Three aspects:\n",
    "1. Service models:\n",
    "    * IaaS\n",
    "    * PaaS\n",
    "    * SaaS\n",
    "\n",
    "2. Essential characteristics:\n",
    "    * On-demand service\n",
    "    * Elasticity (increase or decrease size)\n",
    "    * and 3 more\n",
    "\n",
    "3. Deployment models:\n",
    "    * Public\n",
    "    * Private\n",
    "    * Community (e.g universities together)\n",
    "    * Hybrid (public+private, public+public, etc)\n",
    "\n",
    "All these aspects define if we are talking about cloud or not. And no, it's not just another computer owned by someone else."
   ]
  },
  {
   "cell_type": "markdown",
   "metadata": {},
   "source": [
    "### What is AWS?\n",
    "### Where is AWS? \n",
    "* __Regions__ (for network latency and for geo-political scenarios (local government policies))\n",
    "* __AZ__ (availability zones)(for reduntant copies for situations like natural disaster and power failure)\n",
    "* __Edge Locations__ (for cache service for static things like images for website)"
   ]
  },
  {
   "cell_type": "markdown",
   "metadata": {},
   "source": [
    "### To install AWS CLI \n",
    "1. Download and install cli tool\n",
    "2. Create user and credentials in aws console webpage\n",
    "3. Configure your cli tool with the credentials created in step 2"
   ]
  },
  {
   "cell_type": "markdown",
   "metadata": {},
   "source": [
    "## SERVICES\n",
    "\n",
    "> Inter Region services does not work. Meaning, a service created in one region cannot interact with any service created in a different region."
   ]
  },
  {
   "cell_type": "markdown",
   "metadata": {},
   "source": [
    "### 1. S3 (Storage)\n",
    "\n",
    "- Simple Storage Service\n",
    "- What does it store?\n",
    "    - Objects\n",
    "        - What are __objects__? Objects can be thought of as files\n",
    "- Objects are stored in _containers_ which are called __BUCKETS__.\n",
    "- We can store unlimited objects in a buckets\n",
    "- Each object can be of size upto 5TB\n",
    "- These objects can be: backups, media files, log files, _static websites_ etc.\n",
    "\n",
    "> Summary: We can create BUCKETS to store OBJECTS"
   ]
  },
  {
   "cell_type": "markdown",
   "metadata": {},
   "source": [
    "### 2. LAMBDA (Compute)\n",
    "\n",
    "* __FaaS__ (Function as a Service)\n",
    "* Meaning, you give it a function from a code and it will execute it\n",
    "* Serverless compute service\n",
    "\n",
    "Lambda function can get executed by event trigger or by scheduler"
   ]
  },
  {
   "cell_type": "markdown",
   "metadata": {},
   "source": [
    "### 3. EC2 (Compute)\n",
    "* Elastic Compute Cloud\n",
    "* They are virtual servers for us\n",
    "* A good example of IaaS\n",
    "* __Use cases:__ web servers, backend servers, (database servers, although aws has a separate database service as a PaaS), general purpose server (basically any type of server)\n",
    "\n",
    "* EC2 virtual machine is called an __INSTANCE__ in aws language\n",
    "* EC2 is quite important and powers many of the PaaS in aws\n",
    "* We can setup all sorts of OS related configurations like type of OS, memory, CPU etc."
   ]
  },
  {
   "cell_type": "markdown",
   "metadata": {},
   "source": [
    "#### Other Services\n",
    "\n",
    "### STORAGE:\n",
    "\n",
    "4. __EFS__ (ELASTIC FILE SYSTEM): This compute service is for __cloud file storage__ like S3 but we can __share the files with different servers__\n",
    "5. __Glacier__: It's a __cloud archive__ service. Very useful for scenarios like \"Policy documents that need to be kept for 7 years etc.\". We can keep it in S3 as well but it's gonna cost more compared to Glacier because the latter is designed for keeping log files and other archives for long term. For good price, the caveat is to retrieve the file stored here you have to request and it'll take some hours to get your file as response.\n",
    "6. __Storage Gateway__: It's a way to __connect__ your __on-premise__ server with aws __cloud__. Why? Let's say you are running out of your diskspace in our personal stack of servers or you want to migrate to cloud. In those cases you can transfer your server configurations easily to cloud through Storage Gateway."
   ]
  },
  {
   "cell_type": "markdown",
   "metadata": {},
   "source": [
    "### DATABASE:\n",
    "7. __RDBMS__ just like MySQL, Postgre etc.\n",
    "8. __DynamoDB__ NoSQL database (i.e key:value pairs)"
   ]
  },
  {
   "cell_type": "markdown",
   "metadata": {},
   "source": [
    "### DEVELOPER TOOLS:\n",
    "9. CodeStar (Similar to Jenkins for develop, build and deploy)\n",
    "10. CodeCommit (Managed version control similar to Github)\n",
    "11. CodeBuild (Fully managed build service)\n",
    "12. CodeDeploy (Automates software deployment)\n",
    "13. CodePipeline (Continuous delivery pipeline)\n",
    "14. Cloud9 (IDE in cloud for writing code e.g lambda)\n",
    "15. XRay (Debugging of microservices e.g lambda functions connected to another lambda functions etc.)"
   ]
  },
  {
   "cell_type": "markdown",
   "metadata": {},
   "source": [
    "### ANALYTICS\n",
    "16. __EMR (ELASTIC MAP REDUCE)__ - to work with big data (runs and scales Apache Hadoop, Spark and other big data frameworks)"
   ]
  },
  {
   "cell_type": "markdown",
   "metadata": {},
   "source": [
    "An example of simple serverless app created:\n",
    "\n",
    "- Create S3 instance (S3_in) where we upload cat image\n",
    "- Create lambda function in python that gets triggered when an upload/load happens in S3_in instance. The function would read the input image, process it (pixelate it, to be precise) and then save/push it to another S3 instance (S3_out)\n",
    "- Create S3 instance (S3_out) that saves the output of the lambda function\n"
   ]
  },
  {
   "cell_type": "code",
   "execution_count": null,
   "metadata": {},
   "outputs": [],
   "source": []
  }
 ],
 "metadata": {
  "kernelspec": {
   "display_name": "Python 3",
   "language": "python",
   "name": "python3"
  },
  "language_info": {
   "codemirror_mode": {
    "name": "ipython",
    "version": 3
   },
   "file_extension": ".py",
   "mimetype": "text/x-python",
   "name": "python",
   "nbconvert_exporter": "python",
   "pygments_lexer": "ipython3",
   "version": "3.8.3"
  }
 },
 "nbformat": 4,
 "nbformat_minor": 4
}

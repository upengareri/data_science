{
 "cells": [
  {
   "cell_type": "markdown",
   "metadata": {},
   "source": [
    "### SET\n",
    "A set allows us to specify two or more characters that can match in a single character's position."
   ]
  },
  {
   "cell_type": "markdown",
   "metadata": {},
   "source": [
    "![img](./resources/re_set.png)"
   ]
  },
  {
   "cell_type": "markdown",
   "metadata": {},
   "source": [
    "The regular expression above will match the strings _mend, send, and bend_."
   ]
  },
  {
   "cell_type": "markdown",
   "metadata": {},
   "source": [
    "### QUNATIFIERS\n",
    "Quantifiers specify how many of the previous character our pattern requires, which can help us when we want to match substrings of specific lengths."
   ]
  },
  {
   "cell_type": "markdown",
   "metadata": {},
   "source": [
    "![quantifier](./resources/re_quantifier.png)"
   ]
  },
  {
   "cell_type": "markdown",
   "metadata": {},
   "source": [
    "The above figure is an example of a __NUMERIC QUANTIFIER__.\n",
    "\n",
    "Some other examples of using numeric quantifier is shown below -"
   ]
  },
  {
   "cell_type": "markdown",
   "metadata": {},
   "source": [
    "![numeric quantifier](./resources/re_numeric_quantifier.png)"
   ]
  },
  {
   "cell_type": "markdown",
   "metadata": {},
   "source": [
    "Some most commonly used quantifiers: __OTHER QUANTIFIERS__"
   ]
  },
  {
   "cell_type": "markdown",
   "metadata": {},
   "source": [
    "![other quantifiers](./resources/re_other_quantifiers.png)"
   ]
  },
  {
   "cell_type": "markdown",
   "metadata": {},
   "source": [
    "### CHARACTER CLASS"
   ]
  },
  {
   "cell_type": "markdown",
   "metadata": {},
   "source": [
    "![character_class](./resources/re_character_class.png)\n",
    "![other_character_class](./resources/re_other_character_class.png)"
   ]
  },
  {
   "cell_type": "markdown",
   "metadata": {},
   "source": [
    "### NEGATIVE CHARACTER CLASS"
   ]
  },
  {
   "cell_type": "markdown",
   "metadata": {},
   "source": [
    "![negative character class](./resources/re_negative_character_class.png)"
   ]
  },
  {
   "cell_type": "markdown",
   "metadata": {},
   "source": [
    "### CAPTURE GROUP"
   ]
  },
  {
   "cell_type": "markdown",
   "metadata": {},
   "source": [
    "![capture group](./resources/re_capture_group.png)"
   ]
  },
  {
   "cell_type": "markdown",
   "metadata": {},
   "source": [
    "### WORD BOUNDARY ANCHOR"
   ]
  },
  {
   "cell_type": "markdown",
   "metadata": {},
   "source": [
    "A scenario where we want to capture just java and not javascript."
   ]
  },
  {
   "cell_type": "markdown",
   "metadata": {},
   "source": [
    "![unexpected](./resources/re_unexpected_1.png)"
   ]
  },
  {
   "cell_type": "markdown",
   "metadata": {},
   "source": [
    "In the above figure, it doesn't capture the last `Java` string because `[^Ss]` needs any character at the end other than `S` or `s`.\n",
    "\n",
    "To solve this, we can use word boundary like below -"
   ]
  },
  {
   "cell_type": "markdown",
   "metadata": {},
   "source": [
    "![wordboundary](./resources/re_word_boundary.png)"
   ]
  },
  {
   "cell_type": "markdown",
   "metadata": {},
   "source": [
    "### OTHER ANCHORS (BEGINNING AND END)"
   ]
  },
  {
   "cell_type": "markdown",
   "metadata": {},
   "source": [
    "![other anchors](./resources/re_other_anchors.png)"
   ]
  },
  {
   "cell_type": "markdown",
   "metadata": {},
   "source": [
    "Note that `^` is used both as beginning anchor as well as to indicate a negative set depending on the character preceding it is `[` or not."
   ]
  },
  {
   "cell_type": "markdown",
   "metadata": {},
   "source": [
    "> Flag: Use case of `^` and `$` with special flag\n",
    "\n",
    "> __re.M__ (__re.MULTILINE__)\n",
    "\n",
    "> When specified, the pattern character `^` matches at the beginning of the string and at the beginning of each line (immediately following each newline); and the pattern character `$` matches at the end of the string and at the end of each line (immediately preceding each newline). \n",
    "\n",
    "> By default, `^` matches only at the beginning of the string, and `$` only at the end of the string and immediately before the newline (if any) at the end of the string. Corresponds to the inline flag (?m)."
   ]
  },
  {
   "cell_type": "code",
   "execution_count": null,
   "metadata": {},
   "outputs": [],
   "source": []
  }
 ],
 "metadata": {
  "kernelspec": {
   "display_name": "Python 3.6.5 64-bit",
   "language": "python",
   "name": "python36564bit1ccad37c0a174320bb86e5be865b4afe"
  },
  "language_info": {
   "codemirror_mode": {
    "name": "ipython",
    "version": 3
   },
   "file_extension": ".py",
   "mimetype": "text/x-python",
   "name": "python",
   "nbconvert_exporter": "python",
   "pygments_lexer": "ipython3",
   "version": "3.6.5"
  }
 },
 "nbformat": 4,
 "nbformat_minor": 4
}

{
 "cells": [
  {
   "cell_type": "markdown",
   "metadata": {},
   "source": [
    "The command we pass to the shell has the below signature -\n",
    "\n",
    "`utility_name parameter1 parameter2 ... parameterN`\n",
    "\n",
    "__utility__ is also called __command__ or __program__\n",
    "\n",
    "The parameter can either be an option or argument.\n",
    "\n",
    "An __option__ (starts with a dash) is also called a __flag__ or __switch__;\n",
    "An __argument__ is also called __operand__.\n",
    "\n",
    "Most commonly written as\n",
    "`command -options arguments`\n",
    "\n",
    "> It's a best practice to list options in alphabetical order\n",
    "\n",
    "---"
   ]
  },
  {
   "cell_type": "markdown",
   "metadata": {},
   "source": [
    "#### To run command from history\n",
    "\n",
    "`!number` where number is the number of the command in history list that it shows e.g `!2`\n",
    "\n",
    "We can also use negative numbers to run command from last. Example `!-1` or `!!` is to run last command, `!-2` for second last command.\n",
    "\n",
    "---"
   ]
  },
  {
   "cell_type": "markdown",
   "metadata": {},
   "source": [
    "When a directory isn't contained in any other directory, it is called a __root__.\n",
    "\n",
    "Contrary to what happens in Windows, Unix-like operating systems do not have the concept of \"driver letter.\" In Windows, each driver letter represents a storage device — basically its own file system — and so it is common to have more than one root. Where as in *nix systems there is only one root, called the root directory, represented by a single slash: `/`."
   ]
  },
  {
   "cell_type": "markdown",
   "metadata": {},
   "source": [
    "`/home/<username>` is known as the __home directory__.\n",
    "\n",
    "> the home directory is not the directory home\n",
    "\n",
    "---"
   ]
  },
  {
   "cell_type": "markdown",
   "metadata": {},
   "source": [
    "An `absolute path` is any path that starts with a slash (`/`). \n",
    "\n",
    "Any other path is called a `relative path`, because they are paths relative to the current working directory\n",
    "\n",
    "---"
   ]
  },
  {
   "cell_type": "markdown",
   "metadata": {},
   "source": [
    "File's metadata:\n",
    "\n",
    "`stats [filename]` gives information about the file (similar to properties in GUI)\n",
    "\n",
    "---"
   ]
  },
  {
   "cell_type": "markdown",
   "metadata": {},
   "source": [
    "To change ownership - \n",
    "\n",
    "`sudo chown [new_owner][:new_group] file...`\n",
    "\n",
    "Whenever we use square brackets ([]) when presenting a command, it means what's inside is optional (it's not necessary to be there for the command to work). In other words, it is an optional placeholder. The ellipsis (...) also have a meaning: the argument that precedes it can occur multiple times. In the example above, it means this command can be applied to several files.\n",
    "\n",
    "---"
   ]
  },
  {
   "cell_type": "markdown",
   "metadata": {},
   "source": [
    "__ALIAS:__\n",
    "\n",
    "`alias d=date`\n",
    "\n",
    "`unalias d`\n",
    "\n",
    "---"
   ]
  },
  {
   "cell_type": "markdown",
   "metadata": {},
   "source": [
    "For reading files:\n",
    "\n",
    "- cat\n",
    "- head\n",
    "- tail\n",
    "- less\n",
    "- wc : word count (lines, words, bytes)\n",
    "- columns : for pretty printing csv files\n",
    "- cut: to show only specific columns\n",
    "- shuf : random sample of data by shuffling\n",
    "- diff: show difference between files\n",
    "\n",
    "> use less for bigger files"
   ]
  },
  {
   "cell_type": "markdown",
   "metadata": {},
   "source": [
    "For knowing the type of file:\n",
    "\n",
    "`stat filename` : gives detail info about the file or dir\n",
    "\n",
    "`file filename` : tells about the type of file like text, image, executable, mpeg etc.\n",
    "\n",
    "`type command` : tells if the command is file, built-in, alias, function or keyword.\n",
    "\n",
    "---"
   ]
  },
  {
   "cell_type": "markdown",
   "metadata": {},
   "source": [
    "__Null device__\n",
    "\n",
    "Also known as the null device, `/dev/null` is a special file used to discard data. Any data redirected to this file will be ignored by the operating system and simply disappear.\n",
    "\n",
    "---"
   ]
  },
  {
   "cell_type": "markdown",
   "metadata": {},
   "source": [
    "__CONCEPT__:\n",
    "\n",
    "When we write any command in shell, it spaws a process which is the child process of the shell process. The output of the child process goes to the standard stream. All the standard streams i.e `stdin`, `stdout`, `stderr` are connected to the shell. We can redirect the standard streams to file et. al.\n",
    "\n",
    "Shell command is read from left to right!\n",
    "\n",
    "---"
   ]
  },
  {
   "cell_type": "code",
   "execution_count": null,
   "metadata": {},
   "outputs": [],
   "source": []
  }
 ],
 "metadata": {
  "kernelspec": {
   "display_name": "Python 3.6.5 64-bit",
   "language": "python",
   "name": "python36564bit1ccad37c0a174320bb86e5be865b4afe"
  },
  "language_info": {
   "codemirror_mode": {
    "name": "ipython",
    "version": 3
   },
   "file_extension": ".py",
   "mimetype": "text/x-python",
   "name": "python",
   "nbconvert_exporter": "python",
   "pygments_lexer": "ipython3",
   "version": "3.6.5"
  }
 },
 "nbformat": 4,
 "nbformat_minor": 4
}
